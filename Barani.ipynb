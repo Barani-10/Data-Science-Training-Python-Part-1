{
  "nbformat": 4,
  "nbformat_minor": 0,
  "metadata": {
    "colab": {
      "name": "Barani.ipynb",
      "provenance": [],
      "collapsed_sections": [],
      "include_colab_link": true
    },
    "kernelspec": {
      "name": "python3",
      "display_name": "Python 3"
    },
    "language_info": {
      "name": "python"
    }
  },
  "cells": [
    {
      "cell_type": "markdown",
      "metadata": {
        "id": "view-in-github",
        "colab_type": "text"
      },
      "source": [
        "<a href=\"https://colab.research.google.com/github/Barani-10/Data-Science-Training-Python-Part-1/blob/main/Barani.ipynb\" target=\"_parent\"><img src=\"https://colab.research.google.com/assets/colab-badge.svg\" alt=\"Open In Colab\"/></a>"
      ]
    },
    {
      "cell_type": "code",
      "execution_count": null,
      "metadata": {
        "id": "FnvpAmEdvHQt"
      },
      "outputs": [],
      "source": [
        "import pandas as pd\n",
        "import numpy as np\n",
        "import matplotlib.pyplot as plt\n",
        "import seaborn as sns\n",
        "\n",
        "from sklearn.preprocessing import StandardScaler\n",
        "from sklearn.model_selection import train_test_split\n",
        "\n",
        "from sklearn.tree import DecisionTreeClassifier\n",
        "from sklearn.ensemble import RandomForestClassifier\n",
        "from xgboost import XGBClassifier\n",
        "from sklearn.metrics import accuracy_score, precision_score, recall_score, f1_score, confusion_matrix, classification_report\n",
        "\n",
        "from sklearn.pipeline import Pipeline\n",
        "\n",
        "from sklearn.model_selection import learning_curve, cross_val_score"
      ]
    },
    {
      "cell_type": "code",
      "source": [
        "from google.colab import drive\n",
        "drive.mount('/content/gdrive/')"
      ],
      "metadata": {
        "id": "bUoErnNxva2n",
        "colab": {
          "base_uri": "https://localhost:8080/"
        },
        "outputId": "9013955f-b40a-4aef-f5f8-47fd0a88fd32"
      },
      "execution_count": null,
      "outputs": [
        {
          "output_type": "stream",
          "name": "stdout",
          "text": [
            "Drive already mounted at /content/gdrive/; to attempt to forcibly remount, call drive.mount(\"/content/gdrive/\", force_remount=True).\n"
          ]
        }
      ]
    },
    {
      "cell_type": "code",
      "source": [
        "ball_tracking_data = pd.read_csv('/content/gdrive/My Drive/Barani_Cricet recruitment/data.csv')\n",
        "ball_tracking_data.head()"
      ],
      "metadata": {
        "colab": {
          "base_uri": "https://localhost:8080/",
          "height": 270
        },
        "id": "9IffyNO8325g",
        "outputId": "b6eb9236-5acd-4e4d-a948-a1c2cf34be83"
      },
      "execution_count": null,
      "outputs": [
        {
          "output_type": "execute_result",
          "data": {
            "text/plain": [
              "   release_speed_kph  swing_angle  deviation  release_position_y  \\\n",
              "0              87.42        -1.64       2.44                0.78   \n",
              "1             141.37         0.83      -0.36               -0.76   \n",
              "2             133.41        -0.80       0.16                0.30   \n",
              "3              98.07         1.00        NaN               -0.99   \n",
              "4              89.12         0.81      -2.45               -0.62   \n",
              "\n",
              "   release_position_z  bounce_position_y  bounce_position_x  \\\n",
              "0                2.12               0.27               5.35   \n",
              "1                2.10              -0.15               7.29   \n",
              "2                1.83               0.15               3.78   \n",
              "3                2.00              -0.33               1.80   \n",
              "4                2.15               0.13               4.03   \n",
              "\n",
              "   crease_position_y  crease_position_z  stumps_position_y  stumps_position_z  \\\n",
              "0               0.23               0.46               0.21               0.49   \n",
              "1               0.19               0.71               0.27               0.80   \n",
              "2               0.11               0.21               0.10               0.27   \n",
              "3              -0.30               0.13              -0.24               0.30   \n",
              "4               0.18               0.45               0.21               0.57   \n",
              "\n",
              "   bounce_velocity_ratio_z  release_angle  drop_angle  bounce_angle  \\\n",
              "0                    -0.50          -2.81      -15.69          8.78   \n",
              "1                    -0.59          -8.88      -12.34          7.90   \n",
              "2                    -0.47          -4.72       -9.53          4.91   \n",
              "3                    -0.65          -0.78      -13.29          9.18   \n",
              "4                    -0.57          -0.72      -16.55         10.25   \n",
              "\n",
              "  batting_hand bowling_hand bowling_type  runs  wicket  \n",
              "0         left        right         spin     1       0  \n",
              "1        right        right         pace     1       0  \n",
              "2        right         left         pace     1       0  \n",
              "3        right         left         spin     0       0  \n",
              "4        right        right         spin     1       0  "
            ],
            "text/html": [
              "\n",
              "  <div id=\"df-845fb697-78fb-4b3d-acd9-769b3bf327cf\">\n",
              "    <div class=\"colab-df-container\">\n",
              "      <div>\n",
              "<style scoped>\n",
              "    .dataframe tbody tr th:only-of-type {\n",
              "        vertical-align: middle;\n",
              "    }\n",
              "\n",
              "    .dataframe tbody tr th {\n",
              "        vertical-align: top;\n",
              "    }\n",
              "\n",
              "    .dataframe thead th {\n",
              "        text-align: right;\n",
              "    }\n",
              "</style>\n",
              "<table border=\"1\" class=\"dataframe\">\n",
              "  <thead>\n",
              "    <tr style=\"text-align: right;\">\n",
              "      <th></th>\n",
              "      <th>release_speed_kph</th>\n",
              "      <th>swing_angle</th>\n",
              "      <th>deviation</th>\n",
              "      <th>release_position_y</th>\n",
              "      <th>release_position_z</th>\n",
              "      <th>bounce_position_y</th>\n",
              "      <th>bounce_position_x</th>\n",
              "      <th>crease_position_y</th>\n",
              "      <th>crease_position_z</th>\n",
              "      <th>stumps_position_y</th>\n",
              "      <th>stumps_position_z</th>\n",
              "      <th>bounce_velocity_ratio_z</th>\n",
              "      <th>release_angle</th>\n",
              "      <th>drop_angle</th>\n",
              "      <th>bounce_angle</th>\n",
              "      <th>batting_hand</th>\n",
              "      <th>bowling_hand</th>\n",
              "      <th>bowling_type</th>\n",
              "      <th>runs</th>\n",
              "      <th>wicket</th>\n",
              "    </tr>\n",
              "  </thead>\n",
              "  <tbody>\n",
              "    <tr>\n",
              "      <th>0</th>\n",
              "      <td>87.42</td>\n",
              "      <td>-1.64</td>\n",
              "      <td>2.44</td>\n",
              "      <td>0.78</td>\n",
              "      <td>2.12</td>\n",
              "      <td>0.27</td>\n",
              "      <td>5.35</td>\n",
              "      <td>0.23</td>\n",
              "      <td>0.46</td>\n",
              "      <td>0.21</td>\n",
              "      <td>0.49</td>\n",
              "      <td>-0.50</td>\n",
              "      <td>-2.81</td>\n",
              "      <td>-15.69</td>\n",
              "      <td>8.78</td>\n",
              "      <td>left</td>\n",
              "      <td>right</td>\n",
              "      <td>spin</td>\n",
              "      <td>1</td>\n",
              "      <td>0</td>\n",
              "    </tr>\n",
              "    <tr>\n",
              "      <th>1</th>\n",
              "      <td>141.37</td>\n",
              "      <td>0.83</td>\n",
              "      <td>-0.36</td>\n",
              "      <td>-0.76</td>\n",
              "      <td>2.10</td>\n",
              "      <td>-0.15</td>\n",
              "      <td>7.29</td>\n",
              "      <td>0.19</td>\n",
              "      <td>0.71</td>\n",
              "      <td>0.27</td>\n",
              "      <td>0.80</td>\n",
              "      <td>-0.59</td>\n",
              "      <td>-8.88</td>\n",
              "      <td>-12.34</td>\n",
              "      <td>7.90</td>\n",
              "      <td>right</td>\n",
              "      <td>right</td>\n",
              "      <td>pace</td>\n",
              "      <td>1</td>\n",
              "      <td>0</td>\n",
              "    </tr>\n",
              "    <tr>\n",
              "      <th>2</th>\n",
              "      <td>133.41</td>\n",
              "      <td>-0.80</td>\n",
              "      <td>0.16</td>\n",
              "      <td>0.30</td>\n",
              "      <td>1.83</td>\n",
              "      <td>0.15</td>\n",
              "      <td>3.78</td>\n",
              "      <td>0.11</td>\n",
              "      <td>0.21</td>\n",
              "      <td>0.10</td>\n",
              "      <td>0.27</td>\n",
              "      <td>-0.47</td>\n",
              "      <td>-4.72</td>\n",
              "      <td>-9.53</td>\n",
              "      <td>4.91</td>\n",
              "      <td>right</td>\n",
              "      <td>left</td>\n",
              "      <td>pace</td>\n",
              "      <td>1</td>\n",
              "      <td>0</td>\n",
              "    </tr>\n",
              "    <tr>\n",
              "      <th>3</th>\n",
              "      <td>98.07</td>\n",
              "      <td>1.00</td>\n",
              "      <td>NaN</td>\n",
              "      <td>-0.99</td>\n",
              "      <td>2.00</td>\n",
              "      <td>-0.33</td>\n",
              "      <td>1.80</td>\n",
              "      <td>-0.30</td>\n",
              "      <td>0.13</td>\n",
              "      <td>-0.24</td>\n",
              "      <td>0.30</td>\n",
              "      <td>-0.65</td>\n",
              "      <td>-0.78</td>\n",
              "      <td>-13.29</td>\n",
              "      <td>9.18</td>\n",
              "      <td>right</td>\n",
              "      <td>left</td>\n",
              "      <td>spin</td>\n",
              "      <td>0</td>\n",
              "      <td>0</td>\n",
              "    </tr>\n",
              "    <tr>\n",
              "      <th>4</th>\n",
              "      <td>89.12</td>\n",
              "      <td>0.81</td>\n",
              "      <td>-2.45</td>\n",
              "      <td>-0.62</td>\n",
              "      <td>2.15</td>\n",
              "      <td>0.13</td>\n",
              "      <td>4.03</td>\n",
              "      <td>0.18</td>\n",
              "      <td>0.45</td>\n",
              "      <td>0.21</td>\n",
              "      <td>0.57</td>\n",
              "      <td>-0.57</td>\n",
              "      <td>-0.72</td>\n",
              "      <td>-16.55</td>\n",
              "      <td>10.25</td>\n",
              "      <td>right</td>\n",
              "      <td>right</td>\n",
              "      <td>spin</td>\n",
              "      <td>1</td>\n",
              "      <td>0</td>\n",
              "    </tr>\n",
              "  </tbody>\n",
              "</table>\n",
              "</div>\n",
              "      <button class=\"colab-df-convert\" onclick=\"convertToInteractive('df-845fb697-78fb-4b3d-acd9-769b3bf327cf')\"\n",
              "              title=\"Convert this dataframe to an interactive table.\"\n",
              "              style=\"display:none;\">\n",
              "        \n",
              "  <svg xmlns=\"http://www.w3.org/2000/svg\" height=\"24px\"viewBox=\"0 0 24 24\"\n",
              "       width=\"24px\">\n",
              "    <path d=\"M0 0h24v24H0V0z\" fill=\"none\"/>\n",
              "    <path d=\"M18.56 5.44l.94 2.06.94-2.06 2.06-.94-2.06-.94-.94-2.06-.94 2.06-2.06.94zm-11 1L8.5 8.5l.94-2.06 2.06-.94-2.06-.94L8.5 2.5l-.94 2.06-2.06.94zm10 10l.94 2.06.94-2.06 2.06-.94-2.06-.94-.94-2.06-.94 2.06-2.06.94z\"/><path d=\"M17.41 7.96l-1.37-1.37c-.4-.4-.92-.59-1.43-.59-.52 0-1.04.2-1.43.59L10.3 9.45l-7.72 7.72c-.78.78-.78 2.05 0 2.83L4 21.41c.39.39.9.59 1.41.59.51 0 1.02-.2 1.41-.59l7.78-7.78 2.81-2.81c.8-.78.8-2.07 0-2.86zM5.41 20L4 18.59l7.72-7.72 1.47 1.35L5.41 20z\"/>\n",
              "  </svg>\n",
              "      </button>\n",
              "      \n",
              "  <style>\n",
              "    .colab-df-container {\n",
              "      display:flex;\n",
              "      flex-wrap:wrap;\n",
              "      gap: 12px;\n",
              "    }\n",
              "\n",
              "    .colab-df-convert {\n",
              "      background-color: #E8F0FE;\n",
              "      border: none;\n",
              "      border-radius: 50%;\n",
              "      cursor: pointer;\n",
              "      display: none;\n",
              "      fill: #1967D2;\n",
              "      height: 32px;\n",
              "      padding: 0 0 0 0;\n",
              "      width: 32px;\n",
              "    }\n",
              "\n",
              "    .colab-df-convert:hover {\n",
              "      background-color: #E2EBFA;\n",
              "      box-shadow: 0px 1px 2px rgba(60, 64, 67, 0.3), 0px 1px 3px 1px rgba(60, 64, 67, 0.15);\n",
              "      fill: #174EA6;\n",
              "    }\n",
              "\n",
              "    [theme=dark] .colab-df-convert {\n",
              "      background-color: #3B4455;\n",
              "      fill: #D2E3FC;\n",
              "    }\n",
              "\n",
              "    [theme=dark] .colab-df-convert:hover {\n",
              "      background-color: #434B5C;\n",
              "      box-shadow: 0px 1px 3px 1px rgba(0, 0, 0, 0.15);\n",
              "      filter: drop-shadow(0px 1px 2px rgba(0, 0, 0, 0.3));\n",
              "      fill: #FFFFFF;\n",
              "    }\n",
              "  </style>\n",
              "\n",
              "      <script>\n",
              "        const buttonEl =\n",
              "          document.querySelector('#df-845fb697-78fb-4b3d-acd9-769b3bf327cf button.colab-df-convert');\n",
              "        buttonEl.style.display =\n",
              "          google.colab.kernel.accessAllowed ? 'block' : 'none';\n",
              "\n",
              "        async function convertToInteractive(key) {\n",
              "          const element = document.querySelector('#df-845fb697-78fb-4b3d-acd9-769b3bf327cf');\n",
              "          const dataTable =\n",
              "            await google.colab.kernel.invokeFunction('convertToInteractive',\n",
              "                                                     [key], {});\n",
              "          if (!dataTable) return;\n",
              "\n",
              "          const docLinkHtml = 'Like what you see? Visit the ' +\n",
              "            '<a target=\"_blank\" href=https://colab.research.google.com/notebooks/data_table.ipynb>data table notebook</a>'\n",
              "            + ' to learn more about interactive tables.';\n",
              "          element.innerHTML = '';\n",
              "          dataTable['output_type'] = 'display_data';\n",
              "          await google.colab.output.renderOutput(dataTable, element);\n",
              "          const docLink = document.createElement('div');\n",
              "          docLink.innerHTML = docLinkHtml;\n",
              "          element.appendChild(docLink);\n",
              "        }\n",
              "      </script>\n",
              "    </div>\n",
              "  </div>\n",
              "  "
            ]
          },
          "metadata": {},
          "execution_count": 3
        }
      ]
    },
    {
      "cell_type": "code",
      "source": [
        "ball_tracking_data.shape"
      ],
      "metadata": {
        "colab": {
          "base_uri": "https://localhost:8080/"
        },
        "id": "FIKM6WiW4tvT",
        "outputId": "4104309d-66bd-4828-d285-11bf26a8a6f5"
      },
      "execution_count": null,
      "outputs": [
        {
          "output_type": "execute_result",
          "data": {
            "text/plain": [
              "(200789, 20)"
            ]
          },
          "metadata": {},
          "execution_count": 4
        }
      ]
    },
    {
      "cell_type": "code",
      "source": [
        "ball_tracking_data.info()"
      ],
      "metadata": {
        "colab": {
          "base_uri": "https://localhost:8080/"
        },
        "id": "GeKghTjr77q-",
        "outputId": "f55bcaea-cb7a-458b-ee50-c4ff3556c4ce"
      },
      "execution_count": null,
      "outputs": [
        {
          "output_type": "stream",
          "name": "stdout",
          "text": [
            "<class 'pandas.core.frame.DataFrame'>\n",
            "RangeIndex: 200789 entries, 0 to 200788\n",
            "Data columns (total 20 columns):\n",
            " #   Column                   Non-Null Count   Dtype  \n",
            "---  ------                   --------------   -----  \n",
            " 0   release_speed_kph        200333 non-null  float64\n",
            " 1   swing_angle              200534 non-null  float64\n",
            " 2   deviation                194981 non-null  float64\n",
            " 3   release_position_y       200527 non-null  float64\n",
            " 4   release_position_z       200402 non-null  float64\n",
            " 5   bounce_position_y        200465 non-null  float64\n",
            " 6   bounce_position_x        200520 non-null  float64\n",
            " 7   crease_position_y        200535 non-null  float64\n",
            " 8   crease_position_z        200506 non-null  float64\n",
            " 9   stumps_position_y        200523 non-null  float64\n",
            " 10  stumps_position_z        200506 non-null  float64\n",
            " 11  bounce_velocity_ratio_z  200496 non-null  float64\n",
            " 12  release_angle            200533 non-null  float64\n",
            " 13  drop_angle               200510 non-null  float64\n",
            " 14  bounce_angle             200509 non-null  float64\n",
            " 15  batting_hand             200786 non-null  object \n",
            " 16  bowling_hand             200679 non-null  object \n",
            " 17  bowling_type             200416 non-null  object \n",
            " 18  runs                     200789 non-null  int64  \n",
            " 19  wicket                   200789 non-null  int64  \n",
            "dtypes: float64(15), int64(2), object(3)\n",
            "memory usage: 30.6+ MB\n"
          ]
        }
      ]
    },
    {
      "cell_type": "markdown",
      "source": [
        "- We can observe that we have 17 numericals and 3 objects attributes and that there some missing values"
      ],
      "metadata": {
        "id": "bsEdZAq3GN5z"
      }
    },
    {
      "cell_type": "code",
      "source": [
        "ball_tracking_data.describe()"
      ],
      "metadata": {
        "colab": {
          "base_uri": "https://localhost:8080/",
          "height": 364
        },
        "id": "DT8FaiEo72ne",
        "outputId": "66d1047a-f5f9-4b2a-dd6d-c37236f9fa4b"
      },
      "execution_count": null,
      "outputs": [
        {
          "output_type": "execute_result",
          "data": {
            "text/plain": [
              "       release_speed_kph    swing_angle      deviation  release_position_y  \\\n",
              "count      200333.000000  200534.000000  194981.000000       200527.000000   \n",
              "mean          113.314104       0.181257      -0.205346           -0.323727   \n",
              "std            21.574559       1.225102       1.884765            0.636353   \n",
              "min            40.200000     -24.500000     -24.080000           -3.000000   \n",
              "25%            90.810000      -0.480000      -0.860000           -0.750000   \n",
              "50%           119.260000       0.190000      -0.040000           -0.570000   \n",
              "75%           132.840000       0.880000       0.620000            0.160000   \n",
              "max           168.670000      24.360000      24.290000            2.980000   \n",
              "\n",
              "       release_position_z  bounce_position_y  bounce_position_x  \\\n",
              "count       200402.000000      200465.000000      200520.000000   \n",
              "mean             2.003797          -0.141884           6.140859   \n",
              "std              0.131172           0.336724           2.845008   \n",
              "min              1.020000          -1.300000          -8.930000   \n",
              "25%              1.930000          -0.380000           4.470000   \n",
              "50%              1.990000          -0.170000           6.120000   \n",
              "75%              2.080000           0.080000           7.980000   \n",
              "max              6.710000           1.300000          18.730000   \n",
              "\n",
              "       crease_position_y  crease_position_z  stumps_position_y  \\\n",
              "count      200535.000000      200506.000000      200523.000000   \n",
              "mean           -0.076211           0.668237          -0.059821   \n",
              "std             0.341465           0.318014           0.366915   \n",
              "min            -1.540000           0.000000          -1.800000   \n",
              "25%            -0.290000           0.480000          -0.290000   \n",
              "50%            -0.080000           0.640000          -0.060000   \n",
              "75%             0.140000           0.820000           0.170000   \n",
              "max             1.900000           3.380000           1.950000   \n",
              "\n",
              "       stumps_position_z  bounce_velocity_ratio_z  release_angle  \\\n",
              "count      200506.000000            200496.000000  200533.000000   \n",
              "mean            0.744015                -0.607788      -5.508132   \n",
              "std             0.320691                 0.077297       4.183278   \n",
              "min             0.000000                -2.880000     -43.760000   \n",
              "25%             0.560000                -0.650000      -8.340000   \n",
              "50%             0.720000                -0.610000      -5.270000   \n",
              "75%             0.890000                -0.560000      -2.400000   \n",
              "max             3.360000                 0.000000      43.550000   \n",
              "\n",
              "          drop_angle   bounce_angle           runs         wicket  \n",
              "count  200510.000000  200509.000000  200789.000000  200789.000000  \n",
              "mean      -13.918712       9.529667       1.290763       0.049903  \n",
              "std         2.615902       2.290649       1.626499       0.217745  \n",
              "min       -44.210000       0.020000       0.000000       0.000000  \n",
              "25%       -15.790000       7.870000       0.000000       0.000000  \n",
              "50%       -13.950000       9.280000       1.000000       0.000000  \n",
              "75%       -11.980000      10.970000       1.000000       0.000000  \n",
              "max        -0.360000      44.220000       6.000000       1.000000  "
            ],
            "text/html": [
              "\n",
              "  <div id=\"df-07f39228-1cac-4df6-84ab-559370b939b5\">\n",
              "    <div class=\"colab-df-container\">\n",
              "      <div>\n",
              "<style scoped>\n",
              "    .dataframe tbody tr th:only-of-type {\n",
              "        vertical-align: middle;\n",
              "    }\n",
              "\n",
              "    .dataframe tbody tr th {\n",
              "        vertical-align: top;\n",
              "    }\n",
              "\n",
              "    .dataframe thead th {\n",
              "        text-align: right;\n",
              "    }\n",
              "</style>\n",
              "<table border=\"1\" class=\"dataframe\">\n",
              "  <thead>\n",
              "    <tr style=\"text-align: right;\">\n",
              "      <th></th>\n",
              "      <th>release_speed_kph</th>\n",
              "      <th>swing_angle</th>\n",
              "      <th>deviation</th>\n",
              "      <th>release_position_y</th>\n",
              "      <th>release_position_z</th>\n",
              "      <th>bounce_position_y</th>\n",
              "      <th>bounce_position_x</th>\n",
              "      <th>crease_position_y</th>\n",
              "      <th>crease_position_z</th>\n",
              "      <th>stumps_position_y</th>\n",
              "      <th>stumps_position_z</th>\n",
              "      <th>bounce_velocity_ratio_z</th>\n",
              "      <th>release_angle</th>\n",
              "      <th>drop_angle</th>\n",
              "      <th>bounce_angle</th>\n",
              "      <th>runs</th>\n",
              "      <th>wicket</th>\n",
              "    </tr>\n",
              "  </thead>\n",
              "  <tbody>\n",
              "    <tr>\n",
              "      <th>count</th>\n",
              "      <td>200333.000000</td>\n",
              "      <td>200534.000000</td>\n",
              "      <td>194981.000000</td>\n",
              "      <td>200527.000000</td>\n",
              "      <td>200402.000000</td>\n",
              "      <td>200465.000000</td>\n",
              "      <td>200520.000000</td>\n",
              "      <td>200535.000000</td>\n",
              "      <td>200506.000000</td>\n",
              "      <td>200523.000000</td>\n",
              "      <td>200506.000000</td>\n",
              "      <td>200496.000000</td>\n",
              "      <td>200533.000000</td>\n",
              "      <td>200510.000000</td>\n",
              "      <td>200509.000000</td>\n",
              "      <td>200789.000000</td>\n",
              "      <td>200789.000000</td>\n",
              "    </tr>\n",
              "    <tr>\n",
              "      <th>mean</th>\n",
              "      <td>113.314104</td>\n",
              "      <td>0.181257</td>\n",
              "      <td>-0.205346</td>\n",
              "      <td>-0.323727</td>\n",
              "      <td>2.003797</td>\n",
              "      <td>-0.141884</td>\n",
              "      <td>6.140859</td>\n",
              "      <td>-0.076211</td>\n",
              "      <td>0.668237</td>\n",
              "      <td>-0.059821</td>\n",
              "      <td>0.744015</td>\n",
              "      <td>-0.607788</td>\n",
              "      <td>-5.508132</td>\n",
              "      <td>-13.918712</td>\n",
              "      <td>9.529667</td>\n",
              "      <td>1.290763</td>\n",
              "      <td>0.049903</td>\n",
              "    </tr>\n",
              "    <tr>\n",
              "      <th>std</th>\n",
              "      <td>21.574559</td>\n",
              "      <td>1.225102</td>\n",
              "      <td>1.884765</td>\n",
              "      <td>0.636353</td>\n",
              "      <td>0.131172</td>\n",
              "      <td>0.336724</td>\n",
              "      <td>2.845008</td>\n",
              "      <td>0.341465</td>\n",
              "      <td>0.318014</td>\n",
              "      <td>0.366915</td>\n",
              "      <td>0.320691</td>\n",
              "      <td>0.077297</td>\n",
              "      <td>4.183278</td>\n",
              "      <td>2.615902</td>\n",
              "      <td>2.290649</td>\n",
              "      <td>1.626499</td>\n",
              "      <td>0.217745</td>\n",
              "    </tr>\n",
              "    <tr>\n",
              "      <th>min</th>\n",
              "      <td>40.200000</td>\n",
              "      <td>-24.500000</td>\n",
              "      <td>-24.080000</td>\n",
              "      <td>-3.000000</td>\n",
              "      <td>1.020000</td>\n",
              "      <td>-1.300000</td>\n",
              "      <td>-8.930000</td>\n",
              "      <td>-1.540000</td>\n",
              "      <td>0.000000</td>\n",
              "      <td>-1.800000</td>\n",
              "      <td>0.000000</td>\n",
              "      <td>-2.880000</td>\n",
              "      <td>-43.760000</td>\n",
              "      <td>-44.210000</td>\n",
              "      <td>0.020000</td>\n",
              "      <td>0.000000</td>\n",
              "      <td>0.000000</td>\n",
              "    </tr>\n",
              "    <tr>\n",
              "      <th>25%</th>\n",
              "      <td>90.810000</td>\n",
              "      <td>-0.480000</td>\n",
              "      <td>-0.860000</td>\n",
              "      <td>-0.750000</td>\n",
              "      <td>1.930000</td>\n",
              "      <td>-0.380000</td>\n",
              "      <td>4.470000</td>\n",
              "      <td>-0.290000</td>\n",
              "      <td>0.480000</td>\n",
              "      <td>-0.290000</td>\n",
              "      <td>0.560000</td>\n",
              "      <td>-0.650000</td>\n",
              "      <td>-8.340000</td>\n",
              "      <td>-15.790000</td>\n",
              "      <td>7.870000</td>\n",
              "      <td>0.000000</td>\n",
              "      <td>0.000000</td>\n",
              "    </tr>\n",
              "    <tr>\n",
              "      <th>50%</th>\n",
              "      <td>119.260000</td>\n",
              "      <td>0.190000</td>\n",
              "      <td>-0.040000</td>\n",
              "      <td>-0.570000</td>\n",
              "      <td>1.990000</td>\n",
              "      <td>-0.170000</td>\n",
              "      <td>6.120000</td>\n",
              "      <td>-0.080000</td>\n",
              "      <td>0.640000</td>\n",
              "      <td>-0.060000</td>\n",
              "      <td>0.720000</td>\n",
              "      <td>-0.610000</td>\n",
              "      <td>-5.270000</td>\n",
              "      <td>-13.950000</td>\n",
              "      <td>9.280000</td>\n",
              "      <td>1.000000</td>\n",
              "      <td>0.000000</td>\n",
              "    </tr>\n",
              "    <tr>\n",
              "      <th>75%</th>\n",
              "      <td>132.840000</td>\n",
              "      <td>0.880000</td>\n",
              "      <td>0.620000</td>\n",
              "      <td>0.160000</td>\n",
              "      <td>2.080000</td>\n",
              "      <td>0.080000</td>\n",
              "      <td>7.980000</td>\n",
              "      <td>0.140000</td>\n",
              "      <td>0.820000</td>\n",
              "      <td>0.170000</td>\n",
              "      <td>0.890000</td>\n",
              "      <td>-0.560000</td>\n",
              "      <td>-2.400000</td>\n",
              "      <td>-11.980000</td>\n",
              "      <td>10.970000</td>\n",
              "      <td>1.000000</td>\n",
              "      <td>0.000000</td>\n",
              "    </tr>\n",
              "    <tr>\n",
              "      <th>max</th>\n",
              "      <td>168.670000</td>\n",
              "      <td>24.360000</td>\n",
              "      <td>24.290000</td>\n",
              "      <td>2.980000</td>\n",
              "      <td>6.710000</td>\n",
              "      <td>1.300000</td>\n",
              "      <td>18.730000</td>\n",
              "      <td>1.900000</td>\n",
              "      <td>3.380000</td>\n",
              "      <td>1.950000</td>\n",
              "      <td>3.360000</td>\n",
              "      <td>0.000000</td>\n",
              "      <td>43.550000</td>\n",
              "      <td>-0.360000</td>\n",
              "      <td>44.220000</td>\n",
              "      <td>6.000000</td>\n",
              "      <td>1.000000</td>\n",
              "    </tr>\n",
              "  </tbody>\n",
              "</table>\n",
              "</div>\n",
              "      <button class=\"colab-df-convert\" onclick=\"convertToInteractive('df-07f39228-1cac-4df6-84ab-559370b939b5')\"\n",
              "              title=\"Convert this dataframe to an interactive table.\"\n",
              "              style=\"display:none;\">\n",
              "        \n",
              "  <svg xmlns=\"http://www.w3.org/2000/svg\" height=\"24px\"viewBox=\"0 0 24 24\"\n",
              "       width=\"24px\">\n",
              "    <path d=\"M0 0h24v24H0V0z\" fill=\"none\"/>\n",
              "    <path d=\"M18.56 5.44l.94 2.06.94-2.06 2.06-.94-2.06-.94-.94-2.06-.94 2.06-2.06.94zm-11 1L8.5 8.5l.94-2.06 2.06-.94-2.06-.94L8.5 2.5l-.94 2.06-2.06.94zm10 10l.94 2.06.94-2.06 2.06-.94-2.06-.94-.94-2.06-.94 2.06-2.06.94z\"/><path d=\"M17.41 7.96l-1.37-1.37c-.4-.4-.92-.59-1.43-.59-.52 0-1.04.2-1.43.59L10.3 9.45l-7.72 7.72c-.78.78-.78 2.05 0 2.83L4 21.41c.39.39.9.59 1.41.59.51 0 1.02-.2 1.41-.59l7.78-7.78 2.81-2.81c.8-.78.8-2.07 0-2.86zM5.41 20L4 18.59l7.72-7.72 1.47 1.35L5.41 20z\"/>\n",
              "  </svg>\n",
              "      </button>\n",
              "      \n",
              "  <style>\n",
              "    .colab-df-container {\n",
              "      display:flex;\n",
              "      flex-wrap:wrap;\n",
              "      gap: 12px;\n",
              "    }\n",
              "\n",
              "    .colab-df-convert {\n",
              "      background-color: #E8F0FE;\n",
              "      border: none;\n",
              "      border-radius: 50%;\n",
              "      cursor: pointer;\n",
              "      display: none;\n",
              "      fill: #1967D2;\n",
              "      height: 32px;\n",
              "      padding: 0 0 0 0;\n",
              "      width: 32px;\n",
              "    }\n",
              "\n",
              "    .colab-df-convert:hover {\n",
              "      background-color: #E2EBFA;\n",
              "      box-shadow: 0px 1px 2px rgba(60, 64, 67, 0.3), 0px 1px 3px 1px rgba(60, 64, 67, 0.15);\n",
              "      fill: #174EA6;\n",
              "    }\n",
              "\n",
              "    [theme=dark] .colab-df-convert {\n",
              "      background-color: #3B4455;\n",
              "      fill: #D2E3FC;\n",
              "    }\n",
              "\n",
              "    [theme=dark] .colab-df-convert:hover {\n",
              "      background-color: #434B5C;\n",
              "      box-shadow: 0px 1px 3px 1px rgba(0, 0, 0, 0.15);\n",
              "      filter: drop-shadow(0px 1px 2px rgba(0, 0, 0, 0.3));\n",
              "      fill: #FFFFFF;\n",
              "    }\n",
              "  </style>\n",
              "\n",
              "      <script>\n",
              "        const buttonEl =\n",
              "          document.querySelector('#df-07f39228-1cac-4df6-84ab-559370b939b5 button.colab-df-convert');\n",
              "        buttonEl.style.display =\n",
              "          google.colab.kernel.accessAllowed ? 'block' : 'none';\n",
              "\n",
              "        async function convertToInteractive(key) {\n",
              "          const element = document.querySelector('#df-07f39228-1cac-4df6-84ab-559370b939b5');\n",
              "          const dataTable =\n",
              "            await google.colab.kernel.invokeFunction('convertToInteractive',\n",
              "                                                     [key], {});\n",
              "          if (!dataTable) return;\n",
              "\n",
              "          const docLinkHtml = 'Like what you see? Visit the ' +\n",
              "            '<a target=\"_blank\" href=https://colab.research.google.com/notebooks/data_table.ipynb>data table notebook</a>'\n",
              "            + ' to learn more about interactive tables.';\n",
              "          element.innerHTML = '';\n",
              "          dataTable['output_type'] = 'display_data';\n",
              "          await google.colab.output.renderOutput(dataTable, element);\n",
              "          const docLink = document.createElement('div');\n",
              "          docLink.innerHTML = docLinkHtml;\n",
              "          element.appendChild(docLink);\n",
              "        }\n",
              "      </script>\n",
              "    </div>\n",
              "  </div>\n",
              "  "
            ]
          },
          "metadata": {},
          "execution_count": 6
        }
      ]
    },
    {
      "cell_type": "code",
      "source": [
        "# Summary statistics for objects attributes\n",
        "ball_tracking_data.describe(include=\"object\")"
      ],
      "metadata": {
        "colab": {
          "base_uri": "https://localhost:8080/",
          "height": 175
        },
        "id": "bxuJCtC79ZCg",
        "outputId": "d190a677-7618-45f9-8d4b-009be3e20520"
      },
      "execution_count": null,
      "outputs": [
        {
          "output_type": "execute_result",
          "data": {
            "text/plain": [
              "       batting_hand bowling_hand bowling_type\n",
              "count        200786       200679       200416\n",
              "unique            2            2            2\n",
              "top           right        right         pace\n",
              "freq         138050       144429       126026"
            ],
            "text/html": [
              "\n",
              "  <div id=\"df-ddd063c1-c0a1-4e98-a771-6c82b3a1c61c\">\n",
              "    <div class=\"colab-df-container\">\n",
              "      <div>\n",
              "<style scoped>\n",
              "    .dataframe tbody tr th:only-of-type {\n",
              "        vertical-align: middle;\n",
              "    }\n",
              "\n",
              "    .dataframe tbody tr th {\n",
              "        vertical-align: top;\n",
              "    }\n",
              "\n",
              "    .dataframe thead th {\n",
              "        text-align: right;\n",
              "    }\n",
              "</style>\n",
              "<table border=\"1\" class=\"dataframe\">\n",
              "  <thead>\n",
              "    <tr style=\"text-align: right;\">\n",
              "      <th></th>\n",
              "      <th>batting_hand</th>\n",
              "      <th>bowling_hand</th>\n",
              "      <th>bowling_type</th>\n",
              "    </tr>\n",
              "  </thead>\n",
              "  <tbody>\n",
              "    <tr>\n",
              "      <th>count</th>\n",
              "      <td>200786</td>\n",
              "      <td>200679</td>\n",
              "      <td>200416</td>\n",
              "    </tr>\n",
              "    <tr>\n",
              "      <th>unique</th>\n",
              "      <td>2</td>\n",
              "      <td>2</td>\n",
              "      <td>2</td>\n",
              "    </tr>\n",
              "    <tr>\n",
              "      <th>top</th>\n",
              "      <td>right</td>\n",
              "      <td>right</td>\n",
              "      <td>pace</td>\n",
              "    </tr>\n",
              "    <tr>\n",
              "      <th>freq</th>\n",
              "      <td>138050</td>\n",
              "      <td>144429</td>\n",
              "      <td>126026</td>\n",
              "    </tr>\n",
              "  </tbody>\n",
              "</table>\n",
              "</div>\n",
              "      <button class=\"colab-df-convert\" onclick=\"convertToInteractive('df-ddd063c1-c0a1-4e98-a771-6c82b3a1c61c')\"\n",
              "              title=\"Convert this dataframe to an interactive table.\"\n",
              "              style=\"display:none;\">\n",
              "        \n",
              "  <svg xmlns=\"http://www.w3.org/2000/svg\" height=\"24px\"viewBox=\"0 0 24 24\"\n",
              "       width=\"24px\">\n",
              "    <path d=\"M0 0h24v24H0V0z\" fill=\"none\"/>\n",
              "    <path d=\"M18.56 5.44l.94 2.06.94-2.06 2.06-.94-2.06-.94-.94-2.06-.94 2.06-2.06.94zm-11 1L8.5 8.5l.94-2.06 2.06-.94-2.06-.94L8.5 2.5l-.94 2.06-2.06.94zm10 10l.94 2.06.94-2.06 2.06-.94-2.06-.94-.94-2.06-.94 2.06-2.06.94z\"/><path d=\"M17.41 7.96l-1.37-1.37c-.4-.4-.92-.59-1.43-.59-.52 0-1.04.2-1.43.59L10.3 9.45l-7.72 7.72c-.78.78-.78 2.05 0 2.83L4 21.41c.39.39.9.59 1.41.59.51 0 1.02-.2 1.41-.59l7.78-7.78 2.81-2.81c.8-.78.8-2.07 0-2.86zM5.41 20L4 18.59l7.72-7.72 1.47 1.35L5.41 20z\"/>\n",
              "  </svg>\n",
              "      </button>\n",
              "      \n",
              "  <style>\n",
              "    .colab-df-container {\n",
              "      display:flex;\n",
              "      flex-wrap:wrap;\n",
              "      gap: 12px;\n",
              "    }\n",
              "\n",
              "    .colab-df-convert {\n",
              "      background-color: #E8F0FE;\n",
              "      border: none;\n",
              "      border-radius: 50%;\n",
              "      cursor: pointer;\n",
              "      display: none;\n",
              "      fill: #1967D2;\n",
              "      height: 32px;\n",
              "      padding: 0 0 0 0;\n",
              "      width: 32px;\n",
              "    }\n",
              "\n",
              "    .colab-df-convert:hover {\n",
              "      background-color: #E2EBFA;\n",
              "      box-shadow: 0px 1px 2px rgba(60, 64, 67, 0.3), 0px 1px 3px 1px rgba(60, 64, 67, 0.15);\n",
              "      fill: #174EA6;\n",
              "    }\n",
              "\n",
              "    [theme=dark] .colab-df-convert {\n",
              "      background-color: #3B4455;\n",
              "      fill: #D2E3FC;\n",
              "    }\n",
              "\n",
              "    [theme=dark] .colab-df-convert:hover {\n",
              "      background-color: #434B5C;\n",
              "      box-shadow: 0px 1px 3px 1px rgba(0, 0, 0, 0.15);\n",
              "      filter: drop-shadow(0px 1px 2px rgba(0, 0, 0, 0.3));\n",
              "      fill: #FFFFFF;\n",
              "    }\n",
              "  </style>\n",
              "\n",
              "      <script>\n",
              "        const buttonEl =\n",
              "          document.querySelector('#df-ddd063c1-c0a1-4e98-a771-6c82b3a1c61c button.colab-df-convert');\n",
              "        buttonEl.style.display =\n",
              "          google.colab.kernel.accessAllowed ? 'block' : 'none';\n",
              "\n",
              "        async function convertToInteractive(key) {\n",
              "          const element = document.querySelector('#df-ddd063c1-c0a1-4e98-a771-6c82b3a1c61c');\n",
              "          const dataTable =\n",
              "            await google.colab.kernel.invokeFunction('convertToInteractive',\n",
              "                                                     [key], {});\n",
              "          if (!dataTable) return;\n",
              "\n",
              "          const docLinkHtml = 'Like what you see? Visit the ' +\n",
              "            '<a target=\"_blank\" href=https://colab.research.google.com/notebooks/data_table.ipynb>data table notebook</a>'\n",
              "            + ' to learn more about interactive tables.';\n",
              "          element.innerHTML = '';\n",
              "          dataTable['output_type'] = 'display_data';\n",
              "          await google.colab.output.renderOutput(dataTable, element);\n",
              "          const docLink = document.createElement('div');\n",
              "          docLink.innerHTML = docLinkHtml;\n",
              "          element.appendChild(docLink);\n",
              "        }\n",
              "      </script>\n",
              "    </div>\n",
              "  </div>\n",
              "  "
            ]
          },
          "metadata": {},
          "execution_count": 7
        }
      ]
    },
    {
      "cell_type": "markdown",
      "source": [
        "- Count shows missing values\n",
        "- Quite acceptable range for each features we will analyze it further\n"
      ],
      "metadata": {
        "id": "4vfQQ3Oh9kgj"
      }
    },
    {
      "cell_type": "code",
      "source": [
        "# Let's visualise the distribution of the attributes\n",
        "ball_tracking_data.hist(figsize=(15,15));"
      ],
      "metadata": {
        "colab": {
          "base_uri": "https://localhost:8080/",
          "height": 627
        },
        "id": "ZecurGmS76O0",
        "outputId": "04c1a284-2b80-435e-b531-e404f1b05516"
      },
      "execution_count": null,
      "outputs": [
        {
          "output_type": "display_data",
          "data": {
            "text/plain": [
              "<Figure size 1080x1080 with 20 Axes>"
            ],
            "image/png": "[encoded data removed]"
          },
          "metadata": {
            "needs_background": "light"
          }
        }
      ]
    },
    {
      "cell_type": "markdown",
      "source": [
        "- There is no skewed attributes\n",
        "- The wicket target has 2 possible values: either 0 or 1. It's a discrete numerical values so we will do a supervised classification model for this target. \n",
        "We see that almost all the measures taken has the label wicket=0, that could be a problem for our ML to predict wicket=1 measures.\n",
        "- The runs target need to be studied with the value_counts \n"
      ],
      "metadata": {
        "id": "0yMzy9zx-1_o"
      }
    },
    {
      "cell_type": "code",
      "source": [
        "# Let's visualize wicket distribution further\n",
        "ball_tracking_data.wicket.value_counts(normalize=True)"
      ],
      "metadata": {
        "colab": {
          "base_uri": "https://localhost:8080/"
        },
        "id": "ggJPsSVaLawY",
        "outputId": "b31e3f2b-a9fd-4a46-fe9e-0750a6877fc2"
      },
      "execution_count": null,
      "outputs": [
        {
          "output_type": "execute_result",
          "data": {
            "text/plain": [
              "0    0.950097\n",
              "1    0.049903\n",
              "Name: wicket, dtype: float64"
            ]
          },
          "metadata": {},
          "execution_count": 9
        }
      ]
    },
    {
      "cell_type": "markdown",
      "source": [
        "- Think It will be suitable to have more measures labeled wicket = 0 for a better performance of our model"
      ],
      "metadata": {
        "id": "yzgH0RqkNF68"
      }
    },
    {
      "cell_type": "code",
      "source": [
        "# Let's look at the runs target unique values\n",
        "ball_tracking_data.runs.value_counts()"
      ],
      "metadata": {
        "colab": {
          "base_uri": "https://localhost:8080/"
        },
        "id": "yoNjAZuU-exM",
        "outputId": "fe89d6d3-23b9-4db7-f27e-029c1c884a0a"
      },
      "execution_count": null,
      "outputs": [
        {
          "output_type": "execute_result",
          "data": {
            "text/plain": [
              "1    79101\n",
              "0    74828\n",
              "4    22295\n",
              "2    13531\n",
              "6    10218\n",
              "3      780\n",
              "5       36\n",
              "Name: runs, dtype: int64"
            ]
          },
          "metadata": {},
          "execution_count": 10
        }
      ]
    },
    {
      "cell_type": "code",
      "source": [
        "# let's check for duplicates \n",
        "print(\"The shape of the data before dropping dupplicates :\", ball_tracking_data.shape)\n",
        "print(\"The numbers of duplicates rows is :\", ball_tracking_data.duplicated(keep='first').sum())\n",
        "# Remove duplicates rows\n",
        "ball_tracking_data = ball_tracking_data.drop_duplicates(keep='first')\n",
        "print(\"Shape after dropping duplicates :\", ball_tracking_data.shape)"
      ],
      "metadata": {
        "colab": {
          "base_uri": "https://localhost:8080/"
        },
        "id": "soLLSE80AwW5",
        "outputId": "18672673-4424-4bb4-fd8b-2fe28e33ba77"
      },
      "execution_count": null,
      "outputs": [
        {
          "output_type": "stream",
          "name": "stdout",
          "text": [
            "The shape of the data before dropping dupplicates : (200789, 20)\n",
            "The numbers of duplicates rows is : 288\n",
            "Shape after dropping duplicates : (200501, 20)\n"
          ]
        }
      ]
    },
    {
      "cell_type": "code",
      "source": [
        "# let's visualise our targets\n"
      ],
      "metadata": {
        "id": "lfuw9VF2KaxQ"
      },
      "execution_count": null,
      "outputs": []
    },
    {
      "cell_type": "code",
      "source": [
        "# Let's look at the correlation between variables\n",
        "corr_matrix = ball_tracking_data.corr()\n",
        "\n",
        "# plot an heatmap of the correlation matrix\n",
        "fig = plt.figure(figsize = (15,15))\n",
        "sns.heatmap(corr_matrix, cmap= \"Blues\", annot = True)\n",
        "plt.show()"
      ],
      "metadata": {
        "colab": {
          "base_uri": "https://localhost:8080/",
          "height": 676
        },
        "id": "CpnpWz69JZsf",
        "outputId": "81d16d7a-e59e-467e-d53d-33e09691345d"
      },
      "execution_count": null,
      "outputs": [
        {
          "output_type": "display_data",
          "data": {
            "text/plain": [
              "<Figure size 1080x1080 with 2 Axes>"
            ],
            "image/png": "[encoded data removed]"
          },
          "metadata": {
            "needs_background": "light"
          }
        }
      ]
    },
    {
      "cell_type": "markdown",
      "source": [
        "- wicket and runs attributes are more correlated to each other than other attributes. they are negatively correlated"
      ],
      "metadata": {
        "id": "52gTdocOVfQy"
      }
    },
    {
      "cell_type": "code",
      "source": [
        "# Let's use a function to get the ranking of the more correlated attributes\n",
        "def identify_highly_correlated_features(df, correlation_threshold):\n",
        "    \"\"\"\n",
        "    This definition can be used to identify highly correlated features\n",
        "    \n",
        "    @param df pandas DataFrame\n",
        "    @param correlation_threshold int \n",
        "    \n",
        "    @return a DataFrame with highly correlated features \n",
        "    \"\"\"\n",
        "    \n",
        "    corr_matrix = df.corr().abs() # calculate the correlation matrix with \n",
        "    high_corr_var = np.where(corr_matrix >= correlation_threshold) # identify variables that have correlations above defined threshold\n",
        "    high_corr_var = [(corr_matrix.index[x], corr_matrix.columns[y], round(corr_matrix.iloc[x, y], 2))\n",
        "                         for x, y in zip(*high_corr_var) if x != y and x < y] # identify pairs of highly correlated variables\n",
        "    \n",
        "    high_corr_var_df = pd.DataFrame(high_corr_var).rename(columns = {0: 'corr_feature',\n",
        "                                                                     1: 'drop_feature',\n",
        "                                                                     2: 'correlation_values'})\n",
        "\n",
        "    return high_corr_var_df.sort_values(by = 'correlation_values', ascending = False)\n",
        "\n",
        "# Apply the function\n",
        "identify_highly_correlated_features(ball_tracking_data, 0.95)"
      ],
      "metadata": {
        "colab": {
          "base_uri": "https://localhost:8080/",
          "height": 112
        },
        "id": "bGWlDujIPEBr",
        "outputId": "c8221663-bf7e-4966-e16e-38623c510983"
      },
      "execution_count": null,
      "outputs": [
        {
          "output_type": "execute_result",
          "data": {
            "text/plain": [
              "        corr_feature       drop_feature  correlation_values\n",
              "0  crease_position_y  stumps_position_y                0.99\n",
              "1  crease_position_z  stumps_position_z                0.98"
            ],
            "text/html": [
              "\n",
              "  <div id=\"df-238b3c34-1610-4861-a33e-4ea4549ddd16\">\n",
              "    <div class=\"colab-df-container\">\n",
              "      <div>\n",
              "<style scoped>\n",
              "    .dataframe tbody tr th:only-of-type {\n",
              "        vertical-align: middle;\n",
              "    }\n",
              "\n",
              "    .dataframe tbody tr th {\n",
              "        vertical-align: top;\n",
              "    }\n",
              "\n",
              "    .dataframe thead th {\n",
              "        text-align: right;\n",
              "    }\n",
              "</style>\n",
              "<table border=\"1\" class=\"dataframe\">\n",
              "  <thead>\n",
              "    <tr style=\"text-align: right;\">\n",
              "      <th></th>\n",
              "      <th>corr_feature</th>\n",
              "      <th>drop_feature</th>\n",
              "      <th>correlation_values</th>\n",
              "    </tr>\n",
              "  </thead>\n",
              "  <tbody>\n",
              "    <tr>\n",
              "      <th>0</th>\n",
              "      <td>crease_position_y</td>\n",
              "      <td>stumps_position_y</td>\n",
              "      <td>0.99</td>\n",
              "    </tr>\n",
              "    <tr>\n",
              "      <th>1</th>\n",
              "      <td>crease_position_z</td>\n",
              "      <td>stumps_position_z</td>\n",
              "      <td>0.98</td>\n",
              "    </tr>\n",
              "  </tbody>\n",
              "</table>\n",
              "</div>\n",
              "      <button class=\"colab-df-convert\" onclick=\"convertToInteractive('df-238b3c34-1610-4861-a33e-4ea4549ddd16')\"\n",
              "              title=\"Convert this dataframe to an interactive table.\"\n",
              "              style=\"display:none;\">\n",
              "        \n",
              "  <svg xmlns=\"http://www.w3.org/2000/svg\" height=\"24px\"viewBox=\"0 0 24 24\"\n",
              "       width=\"24px\">\n",
              "    <path d=\"M0 0h24v24H0V0z\" fill=\"none\"/>\n",
              "    <path d=\"M18.56 5.44l.94 2.06.94-2.06 2.06-.94-2.06-.94-.94-2.06-.94 2.06-2.06.94zm-11 1L8.5 8.5l.94-2.06 2.06-.94-2.06-.94L8.5 2.5l-.94 2.06-2.06.94zm10 10l.94 2.06.94-2.06 2.06-.94-2.06-.94-.94-2.06-.94 2.06-2.06.94z\"/><path d=\"M17.41 7.96l-1.37-1.37c-.4-.4-.92-.59-1.43-.59-.52 0-1.04.2-1.43.59L10.3 9.45l-7.72 7.72c-.78.78-.78 2.05 0 2.83L4 21.41c.39.39.9.59 1.41.59.51 0 1.02-.2 1.41-.59l7.78-7.78 2.81-2.81c.8-.78.8-2.07 0-2.86zM5.41 20L4 18.59l7.72-7.72 1.47 1.35L5.41 20z\"/>\n",
              "  </svg>\n",
              "      </button>\n",
              "      \n",
              "  <style>\n",
              "    .colab-df-container {\n",
              "      display:flex;\n",
              "      flex-wrap:wrap;\n",
              "      gap: 12px;\n",
              "    }\n",
              "\n",
              "    .colab-df-convert {\n",
              "      background-color: #E8F0FE;\n",
              "      border: none;\n",
              "      border-radius: 50%;\n",
              "      cursor: pointer;\n",
              "      display: none;\n",
              "      fill: #1967D2;\n",
              "      height: 32px;\n",
              "      padding: 0 0 0 0;\n",
              "      width: 32px;\n",
              "    }\n",
              "\n",
              "    .colab-df-convert:hover {\n",
              "      background-color: #E2EBFA;\n",
              "      box-shadow: 0px 1px 2px rgba(60, 64, 67, 0.3), 0px 1px 3px 1px rgba(60, 64, 67, 0.15);\n",
              "      fill: #174EA6;\n",
              "    }\n",
              "\n",
              "    [theme=dark] .colab-df-convert {\n",
              "      background-color: #3B4455;\n",
              "      fill: #D2E3FC;\n",
              "    }\n",
              "\n",
              "    [theme=dark] .colab-df-convert:hover {\n",
              "      background-color: #434B5C;\n",
              "      box-shadow: 0px 1px 3px 1px rgba(0, 0, 0, 0.15);\n",
              "      filter: drop-shadow(0px 1px 2px rgba(0, 0, 0, 0.3));\n",
              "      fill: #FFFFFF;\n",
              "    }\n",
              "  </style>\n",
              "\n",
              "      <script>\n",
              "        const buttonEl =\n",
              "          document.querySelector('#df-238b3c34-1610-4861-a33e-4ea4549ddd16 button.colab-df-convert');\n",
              "        buttonEl.style.display =\n",
              "          google.colab.kernel.accessAllowed ? 'block' : 'none';\n",
              "\n",
              "        async function convertToInteractive(key) {\n",
              "          const element = document.querySelector('#df-238b3c34-1610-4861-a33e-4ea4549ddd16');\n",
              "          const dataTable =\n",
              "            await google.colab.kernel.invokeFunction('convertToInteractive',\n",
              "                                                     [key], {});\n",
              "          if (!dataTable) return;\n",
              "\n",
              "          const docLinkHtml = 'Like what you see? Visit the ' +\n",
              "            '<a target=\"_blank\" href=https://colab.research.google.com/notebooks/data_table.ipynb>data table notebook</a>'\n",
              "            + ' to learn more about interactive tables.';\n",
              "          element.innerHTML = '';\n",
              "          dataTable['output_type'] = 'display_data';\n",
              "          await google.colab.output.renderOutput(dataTable, element);\n",
              "          const docLink = document.createElement('div');\n",
              "          docLink.innerHTML = docLinkHtml;\n",
              "          element.appendChild(docLink);\n",
              "        }\n",
              "      </script>\n",
              "    </div>\n",
              "  </div>\n",
              "  "
            ]
          },
          "metadata": {},
          "execution_count": 14
        }
      ]
    },
    {
      "cell_type": "code",
      "source": [
        "# Let's drop highly correlated attributes\n",
        "print(\"Data shape before :\", ball_tracking_data.shape)\n",
        "to_drop = [\"crease_position_y\", \"crease_position_z\"] # I choose to drop \"crease_position\" because \"stumps_position\" is more correlated to our targets\n",
        "ball_tracking_data = ball_tracking_data.drop(to_drop, axis=1)\n",
        "print(\"Data shape after :\", ball_tracking_data.shape)"
      ],
      "metadata": {
        "colab": {
          "base_uri": "https://localhost:8080/"
        },
        "id": "M8pddDz-RCG9",
        "outputId": "e4df07de-8143-4f16-8004-c3a7339989a1"
      },
      "execution_count": null,
      "outputs": [
        {
          "output_type": "stream",
          "name": "stdout",
          "text": [
            "Data shape before : (200501, 20)\n",
            "Data shape after : (200501, 18)\n"
          ]
        }
      ]
    },
    {
      "cell_type": "markdown",
      "source": [
        "### Handling missing values"
      ],
      "metadata": {
        "id": "y1rkv3l4JO1O"
      }
    },
    {
      "cell_type": "code",
      "source": [
        "# Let's use a predefine function to have the percentage of missing values per attributes\n",
        "# function\n",
        "def identify_missing_data(df):\n",
        "    \"\"\"\n",
        "    This function is used to identify missing data\n",
        "    \n",
        "    @param df pandas DataFrame\n",
        "    \n",
        "    @return a DataFrame with the percentage of missing data for every feature and the data types\n",
        "    \"\"\"\n",
        "    percent_missing = df.isnull().mean()\n",
        "    \n",
        "    missing_value_df = pd.DataFrame(percent_missing).reset_index() # convert to DataFrame\n",
        "    missing_value_df = missing_value_df.rename(columns = {\"index\" : \"feature\",\n",
        "                                                                0 : \"percent_missing\"}) # rename columns\n",
        "\n",
        "    missing_value_df = missing_value_df.sort_values(by = ['percent_missing'], ascending = False) # sort the values\n",
        "    \n",
        "    data_types_df = pd.DataFrame(df.dtypes).reset_index().rename(columns = {\"index\" : \"feature\",\n",
        "                                                                0 : \"data_type\"}) # rename columns\n",
        "    \n",
        "    missing_value_df = missing_value_df.merge(data_types_df, on = \"feature\") # join the dataframe with datatype\n",
        "    \n",
        "    missing_value_df.percent_missing = round(missing_value_df.percent_missing*100, 2) # format the percent_missing\n",
        "    \n",
        "    return missing_value_df\n",
        "\n",
        "# Apply the function \n",
        "missing_df = identify_missing_data(ball_tracking_data)\n",
        "missing_df[missing_df[\"percent_missing\"] > 0] "
      ],
      "metadata": {
        "colab": {
          "base_uri": "https://localhost:8080/",
          "height": 520
        },
        "id": "o4lNkbnFIS5z",
        "outputId": "89ad9710-2b1f-421d-a722-81ca3646a924"
      },
      "execution_count": null,
      "outputs": [
        {
          "output_type": "execute_result",
          "data": {
            "text/plain": [
              "                    feature  percent_missing data_type\n",
              "0                 deviation             2.80   float64\n",
              "1              bowling_type             0.19    object\n",
              "2         release_speed_kph             0.14   float64\n",
              "3        release_position_z             0.10   float64\n",
              "4         bounce_position_y             0.07   float64\n",
              "5   bounce_velocity_ratio_z             0.06   float64\n",
              "6              bowling_hand             0.05    object\n",
              "7         stumps_position_z             0.05   float64\n",
              "8              bounce_angle             0.05   float64\n",
              "9                drop_angle             0.05   float64\n",
              "10        bounce_position_x             0.05   float64\n",
              "11        stumps_position_y             0.04   float64\n",
              "12       release_position_y             0.04   float64\n",
              "13            release_angle             0.04   float64\n",
              "14              swing_angle             0.04   float64"
            ],
            "text/html": [
              "\n",
              "  <div id=\"df-b59e3bf1-5ef3-4834-8701-dba59ebc971f\">\n",
              "    <div class=\"colab-df-container\">\n",
              "      <div>\n",
              "<style scoped>\n",
              "    .dataframe tbody tr th:only-of-type {\n",
              "        vertical-align: middle;\n",
              "    }\n",
              "\n",
              "    .dataframe tbody tr th {\n",
              "        vertical-align: top;\n",
              "    }\n",
              "\n",
              "    .dataframe thead th {\n",
              "        text-align: right;\n",
              "    }\n",
              "</style>\n",
              "<table border=\"1\" class=\"dataframe\">\n",
              "  <thead>\n",
              "    <tr style=\"text-align: right;\">\n",
              "      <th></th>\n",
              "      <th>feature</th>\n",
              "      <th>percent_missing</th>\n",
              "      <th>data_type</th>\n",
              "    </tr>\n",
              "  </thead>\n",
              "  <tbody>\n",
              "    <tr>\n",
              "      <th>0</th>\n",
              "      <td>deviation</td>\n",
              "      <td>2.80</td>\n",
              "      <td>float64</td>\n",
              "    </tr>\n",
              "    <tr>\n",
              "      <th>1</th>\n",
              "      <td>bowling_type</td>\n",
              "      <td>0.19</td>\n",
              "      <td>object</td>\n",
              "    </tr>\n",
              "    <tr>\n",
              "      <th>2</th>\n",
              "      <td>release_speed_kph</td>\n",
              "      <td>0.14</td>\n",
              "      <td>float64</td>\n",
              "    </tr>\n",
              "    <tr>\n",
              "      <th>3</th>\n",
              "      <td>release_position_z</td>\n",
              "      <td>0.10</td>\n",
              "      <td>float64</td>\n",
              "    </tr>\n",
              "    <tr>\n",
              "      <th>4</th>\n",
              "      <td>bounce_position_y</td>\n",
              "      <td>0.07</td>\n",
              "      <td>float64</td>\n",
              "    </tr>\n",
              "    <tr>\n",
              "      <th>5</th>\n",
              "      <td>bounce_velocity_ratio_z</td>\n",
              "      <td>0.06</td>\n",
              "      <td>float64</td>\n",
              "    </tr>\n",
              "    <tr>\n",
              "      <th>6</th>\n",
              "      <td>bowling_hand</td>\n",
              "      <td>0.05</td>\n",
              "      <td>object</td>\n",
              "    </tr>\n",
              "    <tr>\n",
              "      <th>7</th>\n",
              "      <td>stumps_position_z</td>\n",
              "      <td>0.05</td>\n",
              "      <td>float64</td>\n",
              "    </tr>\n",
              "    <tr>\n",
              "      <th>8</th>\n",
              "      <td>bounce_angle</td>\n",
              "      <td>0.05</td>\n",
              "      <td>float64</td>\n",
              "    </tr>\n",
              "    <tr>\n",
              "      <th>9</th>\n",
              "      <td>drop_angle</td>\n",
              "      <td>0.05</td>\n",
              "      <td>float64</td>\n",
              "    </tr>\n",
              "    <tr>\n",
              "      <th>10</th>\n",
              "      <td>bounce_position_x</td>\n",
              "      <td>0.05</td>\n",
              "      <td>float64</td>\n",
              "    </tr>\n",
              "    <tr>\n",
              "      <th>11</th>\n",
              "      <td>stumps_position_y</td>\n",
              "      <td>0.04</td>\n",
              "      <td>float64</td>\n",
              "    </tr>\n",
              "    <tr>\n",
              "      <th>12</th>\n",
              "      <td>release_position_y</td>\n",
              "      <td>0.04</td>\n",
              "      <td>float64</td>\n",
              "    </tr>\n",
              "    <tr>\n",
              "      <th>13</th>\n",
              "      <td>release_angle</td>\n",
              "      <td>0.04</td>\n",
              "      <td>float64</td>\n",
              "    </tr>\n",
              "    <tr>\n",
              "      <th>14</th>\n",
              "      <td>swing_angle</td>\n",
              "      <td>0.04</td>\n",
              "      <td>float64</td>\n",
              "    </tr>\n",
              "  </tbody>\n",
              "</table>\n",
              "</div>\n",
              "      <button class=\"colab-df-convert\" onclick=\"convertToInteractive('df-b59e3bf1-5ef3-4834-8701-dba59ebc971f')\"\n",
              "              title=\"Convert this dataframe to an interactive table.\"\n",
              "              style=\"display:none;\">\n",
              "        \n",
              "  <svg xmlns=\"http://www.w3.org/2000/svg\" height=\"24px\"viewBox=\"0 0 24 24\"\n",
              "       width=\"24px\">\n",
              "    <path d=\"M0 0h24v24H0V0z\" fill=\"none\"/>\n",
              "    <path d=\"M18.56 5.44l.94 2.06.94-2.06 2.06-.94-2.06-.94-.94-2.06-.94 2.06-2.06.94zm-11 1L8.5 8.5l.94-2.06 2.06-.94-2.06-.94L8.5 2.5l-.94 2.06-2.06.94zm10 10l.94 2.06.94-2.06 2.06-.94-2.06-.94-.94-2.06-.94 2.06-2.06.94z\"/><path d=\"M17.41 7.96l-1.37-1.37c-.4-.4-.92-.59-1.43-.59-.52 0-1.04.2-1.43.59L10.3 9.45l-7.72 7.72c-.78.78-.78 2.05 0 2.83L4 21.41c.39.39.9.59 1.41.59.51 0 1.02-.2 1.41-.59l7.78-7.78 2.81-2.81c.8-.78.8-2.07 0-2.86zM5.41 20L4 18.59l7.72-7.72 1.47 1.35L5.41 20z\"/>\n",
              "  </svg>\n",
              "      </button>\n",
              "      \n",
              "  <style>\n",
              "    .colab-df-container {\n",
              "      display:flex;\n",
              "      flex-wrap:wrap;\n",
              "      gap: 12px;\n",
              "    }\n",
              "\n",
              "    .colab-df-convert {\n",
              "      background-color: #E8F0FE;\n",
              "      border: none;\n",
              "      border-radius: 50%;\n",
              "      cursor: pointer;\n",
              "      display: none;\n",
              "      fill: #1967D2;\n",
              "      height: 32px;\n",
              "      padding: 0 0 0 0;\n",
              "      width: 32px;\n",
              "    }\n",
              "\n",
              "    .colab-df-convert:hover {\n",
              "      background-color: #E2EBFA;\n",
              "      box-shadow: 0px 1px 2px rgba(60, 64, 67, 0.3), 0px 1px 3px 1px rgba(60, 64, 67, 0.15);\n",
              "      fill: #174EA6;\n",
              "    }\n",
              "\n",
              "    [theme=dark] .colab-df-convert {\n",
              "      background-color: #3B4455;\n",
              "      fill: #D2E3FC;\n",
              "    }\n",
              "\n",
              "    [theme=dark] .colab-df-convert:hover {\n",
              "      background-color: #434B5C;\n",
              "      box-shadow: 0px 1px 3px 1px rgba(0, 0, 0, 0.15);\n",
              "      filter: drop-shadow(0px 1px 2px rgba(0, 0, 0, 0.3));\n",
              "      fill: #FFFFFF;\n",
              "    }\n",
              "  </style>\n",
              "\n",
              "      <script>\n",
              "        const buttonEl =\n",
              "          document.querySelector('#df-b59e3bf1-5ef3-4834-8701-dba59ebc971f button.colab-df-convert');\n",
              "        buttonEl.style.display =\n",
              "          google.colab.kernel.accessAllowed ? 'block' : 'none';\n",
              "\n",
              "        async function convertToInteractive(key) {\n",
              "          const element = document.querySelector('#df-b59e3bf1-5ef3-4834-8701-dba59ebc971f');\n",
              "          const dataTable =\n",
              "            await google.colab.kernel.invokeFunction('convertToInteractive',\n",
              "                                                     [key], {});\n",
              "          if (!dataTable) return;\n",
              "\n",
              "          const docLinkHtml = 'Like what you see? Visit the ' +\n",
              "            '<a target=\"_blank\" href=https://colab.research.google.com/notebooks/data_table.ipynb>data table notebook</a>'\n",
              "            + ' to learn more about interactive tables.';\n",
              "          element.innerHTML = '';\n",
              "          dataTable['output_type'] = 'display_data';\n",
              "          await google.colab.output.renderOutput(dataTable, element);\n",
              "          const docLink = document.createElement('div');\n",
              "          docLink.innerHTML = docLinkHtml;\n",
              "          element.appendChild(docLink);\n",
              "        }\n",
              "      </script>\n",
              "    </div>\n",
              "  </div>\n",
              "  "
            ]
          },
          "metadata": {},
          "execution_count": 16
        }
      ]
    },
    {
      "cell_type": "code",
      "source": [
        "missing_df[missing_df[\"percent_missing\"] > 0].sum()"
      ],
      "metadata": {
        "colab": {
          "base_uri": "https://localhost:8080/"
        },
        "id": "bmvCUtH6WrSA",
        "outputId": "1b08e5a9-82d8-404f-840f-29cfb712d7e5"
      },
      "execution_count": null,
      "outputs": [
        {
          "output_type": "stream",
          "name": "stderr",
          "text": [
            "/usr/local/lib/python3.7/dist-packages/ipykernel_launcher.py:1: FutureWarning: Dropping of nuisance columns in DataFrame reductions (with 'numeric_only=None') is deprecated; in a future version this will raise TypeError.  Select only valid columns before calling the reduction.\n",
            "  \"\"\"Entry point for launching an IPython kernel.\n"
          ]
        },
        {
          "output_type": "execute_result",
          "data": {
            "text/plain": [
              "feature            deviationbowling_typerelease_speed_kphrelease_...\n",
              "percent_missing                                                 3.77\n",
              "dtype: object"
            ]
          },
          "metadata": {},
          "execution_count": 17
        }
      ]
    },
    {
      "cell_type": "markdown",
      "source": [
        "All the missing values represent less than 4% of the dataset. It's possible to use Fillna() method but since missng row are not significant, I'm going to drop these rows."
      ],
      "metadata": {
        "id": "C6DUO8B1hd1S"
      }
    },
    {
      "cell_type": "code",
      "source": [
        "# Drop the Na Values\n",
        "ball_tracking_data_clean = ball_tracking_data.dropna(how='any', axis=0)\n",
        "print(\" Shape before:\", ball_tracking_data.shape)\n",
        "print(\" Shape after:\", ball_tracking_data_clean.shape)\n",
        "# Check of missing values again\n",
        "missing_df = identify_missing_data(ball_tracking_data_clean)\n",
        "missing_df[missing_df[\"percent_missing\"] > 0] "
      ],
      "metadata": {
        "colab": {
          "base_uri": "https://localhost:8080/",
          "height": 85
        },
        "id": "uVLVHWFBhEl6",
        "outputId": "e551982e-20e3-4dc6-e58a-e059058b47cc"
      },
      "execution_count": null,
      "outputs": [
        {
          "output_type": "stream",
          "name": "stdout",
          "text": [
            " Shape before: (200501, 18)\n",
            " Shape after: (193883, 18)\n"
          ]
        },
        {
          "output_type": "execute_result",
          "data": {
            "text/plain": [
              "Empty DataFrame\n",
              "Columns: [feature, percent_missing, data_type]\n",
              "Index: []"
            ],
            "text/html": [
              "\n",
              "  <div id=\"df-b762c915-8495-4807-8f85-46538c2864bb\">\n",
              "    <div class=\"colab-df-container\">\n",
              "      <div>\n",
              "<style scoped>\n",
              "    .dataframe tbody tr th:only-of-type {\n",
              "        vertical-align: middle;\n",
              "    }\n",
              "\n",
              "    .dataframe tbody tr th {\n",
              "        vertical-align: top;\n",
              "    }\n",
              "\n",
              "    .dataframe thead th {\n",
              "        text-align: right;\n",
              "    }\n",
              "</style>\n",
              "<table border=\"1\" class=\"dataframe\">\n",
              "  <thead>\n",
              "    <tr style=\"text-align: right;\">\n",
              "      <th></th>\n",
              "      <th>feature</th>\n",
              "      <th>percent_missing</th>\n",
              "      <th>data_type</th>\n",
              "    </tr>\n",
              "  </thead>\n",
              "  <tbody>\n",
              "  </tbody>\n",
              "</table>\n",
              "</div>\n",
              "      <button class=\"colab-df-convert\" onclick=\"convertToInteractive('df-b762c915-8495-4807-8f85-46538c2864bb')\"\n",
              "              title=\"Convert this dataframe to an interactive table.\"\n",
              "              style=\"display:none;\">\n",
              "        \n",
              "  <svg xmlns=\"http://www.w3.org/2000/svg\" height=\"24px\"viewBox=\"0 0 24 24\"\n",
              "       width=\"24px\">\n",
              "    <path d=\"M0 0h24v24H0V0z\" fill=\"none\"/>\n",
              "    <path d=\"M18.56 5.44l.94 2.06.94-2.06 2.06-.94-2.06-.94-.94-2.06-.94 2.06-2.06.94zm-11 1L8.5 8.5l.94-2.06 2.06-.94-2.06-.94L8.5 2.5l-.94 2.06-2.06.94zm10 10l.94 2.06.94-2.06 2.06-.94-2.06-.94-.94-2.06-.94 2.06-2.06.94z\"/><path d=\"M17.41 7.96l-1.37-1.37c-.4-.4-.92-.59-1.43-.59-.52 0-1.04.2-1.43.59L10.3 9.45l-7.72 7.72c-.78.78-.78 2.05 0 2.83L4 21.41c.39.39.9.59 1.41.59.51 0 1.02-.2 1.41-.59l7.78-7.78 2.81-2.81c.8-.78.8-2.07 0-2.86zM5.41 20L4 18.59l7.72-7.72 1.47 1.35L5.41 20z\"/>\n",
              "  </svg>\n",
              "      </button>\n",
              "      \n",
              "  <style>\n",
              "    .colab-df-container {\n",
              "      display:flex;\n",
              "      flex-wrap:wrap;\n",
              "      gap: 12px;\n",
              "    }\n",
              "\n",
              "    .colab-df-convert {\n",
              "      background-color: #E8F0FE;\n",
              "      border: none;\n",
              "      border-radius: 50%;\n",
              "      cursor: pointer;\n",
              "      display: none;\n",
              "      fill: #1967D2;\n",
              "      height: 32px;\n",
              "      padding: 0 0 0 0;\n",
              "      width: 32px;\n",
              "    }\n",
              "\n",
              "    .colab-df-convert:hover {\n",
              "      background-color: #E2EBFA;\n",
              "      box-shadow: 0px 1px 2px rgba(60, 64, 67, 0.3), 0px 1px 3px 1px rgba(60, 64, 67, 0.15);\n",
              "      fill: #174EA6;\n",
              "    }\n",
              "\n",
              "    [theme=dark] .colab-df-convert {\n",
              "      background-color: #3B4455;\n",
              "      fill: #D2E3FC;\n",
              "    }\n",
              "\n",
              "    [theme=dark] .colab-df-convert:hover {\n",
              "      background-color: #434B5C;\n",
              "      box-shadow: 0px 1px 3px 1px rgba(0, 0, 0, 0.15);\n",
              "      filter: drop-shadow(0px 1px 2px rgba(0, 0, 0, 0.3));\n",
              "      fill: #FFFFFF;\n",
              "    }\n",
              "  </style>\n",
              "\n",
              "      <script>\n",
              "        const buttonEl =\n",
              "          document.querySelector('#df-b762c915-8495-4807-8f85-46538c2864bb button.colab-df-convert');\n",
              "        buttonEl.style.display =\n",
              "          google.colab.kernel.accessAllowed ? 'block' : 'none';\n",
              "\n",
              "        async function convertToInteractive(key) {\n",
              "          const element = document.querySelector('#df-b762c915-8495-4807-8f85-46538c2864bb');\n",
              "          const dataTable =\n",
              "            await google.colab.kernel.invokeFunction('convertToInteractive',\n",
              "                                                     [key], {});\n",
              "          if (!dataTable) return;\n",
              "\n",
              "          const docLinkHtml = 'Like what you see? Visit the ' +\n",
              "            '<a target=\"_blank\" href=https://colab.research.google.com/notebooks/data_table.ipynb>data table notebook</a>'\n",
              "            + ' to learn more about interactive tables.';\n",
              "          element.innerHTML = '';\n",
              "          dataTable['output_type'] = 'display_data';\n",
              "          await google.colab.output.renderOutput(dataTable, element);\n",
              "          const docLink = document.createElement('div');\n",
              "          docLink.innerHTML = docLinkHtml;\n",
              "          element.appendChild(docLink);\n",
              "        }\n",
              "      </script>\n",
              "    </div>\n",
              "  </div>\n",
              "  "
            ]
          },
          "metadata": {},
          "execution_count": 18
        }
      ]
    },
    {
      "cell_type": "markdown",
      "source": [
        "- There is no missing values anymore"
      ],
      "metadata": {
        "id": "b9NSLL-e5Jv7"
      }
    },
    {
      "cell_type": "code",
      "source": [
        "ball_tracking_data_clean.info()"
      ],
      "metadata": {
        "colab": {
          "base_uri": "https://localhost:8080/"
        },
        "id": "jT5kdxJN8cZv",
        "outputId": "8bf19867-04c6-48f2-899f-ae8e66e212ed"
      },
      "execution_count": null,
      "outputs": [
        {
          "output_type": "stream",
          "name": "stdout",
          "text": [
            "<class 'pandas.core.frame.DataFrame'>\n",
            "Int64Index: 193883 entries, 0 to 200788\n",
            "Data columns (total 18 columns):\n",
            " #   Column                   Non-Null Count   Dtype  \n",
            "---  ------                   --------------   -----  \n",
            " 0   release_speed_kph        193883 non-null  float64\n",
            " 1   swing_angle              193883 non-null  float64\n",
            " 2   deviation                193883 non-null  float64\n",
            " 3   release_position_y       193883 non-null  float64\n",
            " 4   release_position_z       193883 non-null  float64\n",
            " 5   bounce_position_y        193883 non-null  float64\n",
            " 6   bounce_position_x        193883 non-null  float64\n",
            " 7   stumps_position_y        193883 non-null  float64\n",
            " 8   stumps_position_z        193883 non-null  float64\n",
            " 9   bounce_velocity_ratio_z  193883 non-null  float64\n",
            " 10  release_angle            193883 non-null  float64\n",
            " 11  drop_angle               193883 non-null  float64\n",
            " 12  bounce_angle             193883 non-null  float64\n",
            " 13  batting_hand             193883 non-null  object \n",
            " 14  bowling_hand             193883 non-null  object \n",
            " 15  bowling_type             193883 non-null  object \n",
            " 16  runs                     193883 non-null  int64  \n",
            " 17  wicket                   193883 non-null  int64  \n",
            "dtypes: float64(13), int64(2), object(3)\n",
            "memory usage: 28.1+ MB\n"
          ]
        }
      ]
    },
    {
      "cell_type": "markdown",
      "source": [
        "### Let's look at the outliers"
      ],
      "metadata": {
        "id": "DrPgZ9V95Z49"
      }
    },
    {
      "cell_type": "code",
      "source": [
        "ball_tracking_data_clean.boxplot(figsize=(7,5))"
      ],
      "metadata": {
        "colab": {
          "base_uri": "https://localhost:8080/",
          "height": 339
        },
        "id": "CyWeQoAabnyi",
        "outputId": "5ad6da25-54bf-4d00-e36f-9688d10630df"
      },
      "execution_count": null,
      "outputs": [
        {
          "output_type": "execute_result",
          "data": {
            "text/plain": [
              "<matplotlib.axes._subplots.AxesSubplot at 0x7ff7cd7d4ed0>"
            ]
          },
          "metadata": {},
          "execution_count": 20
        },
        {
          "output_type": "display_data",
          "data": {
            "text/plain": [
              "<Figure size 504x360 with 1 Axes>"
            ],
            "image/png": "[encoded data removed]"
          },
          "metadata": {
            "needs_background": "light"
          }
        }
      ]
    },
    {
      "cell_type": "code",
      "source": [
        "# Let's visualise the box plot individualy\n",
        "# Code used in class\n",
        "# visualize distribution to detect outliers per column\n",
        "fig = plt.figure(figsize=(25, 17)) # size of plot\n",
        "ball_tracking_clean_count = ball_tracking_data_clean.select_dtypes([int,float]) # store all continous variable (integer or float) columns in ball_tracking_clean_cont variable\n",
        "\n",
        "for i, columns in enumerate(ball_tracking_clean_count.columns, 1): \n",
        "    ax = plt.subplot(5,3,i) # creates 3 subplots in one single row\n",
        "    sns.boxplot(data = ball_tracking_clean_count, x=ball_tracking_clean_count[columns]) # creates box plots for each feature in ball_tracking_data_cleandataset\n",
        "    ax.set_xlabel(None) # removes the labels on x-axis\n",
        "    ax.set_title(f'Distribution of {columns}') # adds title to each subplot\n",
        "    \n",
        "plt.tight_layout(w_pad=5) # adds padding between the subplots\n",
        "plt.show() # displays the plots"
      ],
      "metadata": {
        "colab": {
          "base_uri": "https://localhost:8080/",
          "height": 447
        },
        "id": "iPRHPjms55aK",
        "outputId": "937dc9ca-147a-4d11-d534-b04add6af9f2"
      },
      "execution_count": null,
      "outputs": [
        {
          "output_type": "display_data",
          "data": {
            "text/plain": [
              "<Figure size 1800x1224 with 15 Axes>"
            ],
            "image/png": "[encoded data removed]"
          },
          "metadata": {
            "needs_background": "light"
          }
        }
      ]
    },
    {
      "cell_type": "markdown",
      "source": [
        "- We observe some outliers but I prefer to keep It from now. It can be some steps to go through for features tuning"
      ],
      "metadata": {
        "id": "u9zsCqcKA4E_"
      }
    },
    {
      "cell_type": "markdown",
      "source": [
        "## Features Engineering"
      ],
      "metadata": {
        "id": "RclXuQ_SDSXs"
      }
    },
    {
      "cell_type": "code",
      "source": [
        "ball_tracking_data_clean.describe(include='object')"
      ],
      "metadata": {
        "colab": {
          "base_uri": "https://localhost:8080/",
          "height": 175
        },
        "id": "O7bbXH44Dp4E",
        "outputId": "0c4f363f-f847-442e-ef5f-ccb0260f3692"
      },
      "execution_count": null,
      "outputs": [
        {
          "output_type": "execute_result",
          "data": {
            "text/plain": [
              "       batting_hand bowling_hand bowling_type\n",
              "count        193883       193883       193883\n",
              "unique            2            2            2\n",
              "top           right        right         pace\n",
              "freq         133046       139182       121050"
            ],
            "text/html": [
              "\n",
              "  <div id=\"df-3a04b7a8-c614-488b-838a-693dec858c58\">\n",
              "    <div class=\"colab-df-container\">\n",
              "      <div>\n",
              "<style scoped>\n",
              "    .dataframe tbody tr th:only-of-type {\n",
              "        vertical-align: middle;\n",
              "    }\n",
              "\n",
              "    .dataframe tbody tr th {\n",
              "        vertical-align: top;\n",
              "    }\n",
              "\n",
              "    .dataframe thead th {\n",
              "        text-align: right;\n",
              "    }\n",
              "</style>\n",
              "<table border=\"1\" class=\"dataframe\">\n",
              "  <thead>\n",
              "    <tr style=\"text-align: right;\">\n",
              "      <th></th>\n",
              "      <th>batting_hand</th>\n",
              "      <th>bowling_hand</th>\n",
              "      <th>bowling_type</th>\n",
              "    </tr>\n",
              "  </thead>\n",
              "  <tbody>\n",
              "    <tr>\n",
              "      <th>count</th>\n",
              "      <td>193883</td>\n",
              "      <td>193883</td>\n",
              "      <td>193883</td>\n",
              "    </tr>\n",
              "    <tr>\n",
              "      <th>unique</th>\n",
              "      <td>2</td>\n",
              "      <td>2</td>\n",
              "      <td>2</td>\n",
              "    </tr>\n",
              "    <tr>\n",
              "      <th>top</th>\n",
              "      <td>right</td>\n",
              "      <td>right</td>\n",
              "      <td>pace</td>\n",
              "    </tr>\n",
              "    <tr>\n",
              "      <th>freq</th>\n",
              "      <td>133046</td>\n",
              "      <td>139182</td>\n",
              "      <td>121050</td>\n",
              "    </tr>\n",
              "  </tbody>\n",
              "</table>\n",
              "</div>\n",
              "      <button class=\"colab-df-convert\" onclick=\"convertToInteractive('df-3a04b7a8-c614-488b-838a-693dec858c58')\"\n",
              "              title=\"Convert this dataframe to an interactive table.\"\n",
              "              style=\"display:none;\">\n",
              "        \n",
              "  <svg xmlns=\"http://www.w3.org/2000/svg\" height=\"24px\"viewBox=\"0 0 24 24\"\n",
              "       width=\"24px\">\n",
              "    <path d=\"M0 0h24v24H0V0z\" fill=\"none\"/>\n",
              "    <path d=\"M18.56 5.44l.94 2.06.94-2.06 2.06-.94-2.06-.94-.94-2.06-.94 2.06-2.06.94zm-11 1L8.5 8.5l.94-2.06 2.06-.94-2.06-.94L8.5 2.5l-.94 2.06-2.06.94zm10 10l.94 2.06.94-2.06 2.06-.94-2.06-.94-.94-2.06-.94 2.06-2.06.94z\"/><path d=\"M17.41 7.96l-1.37-1.37c-.4-.4-.92-.59-1.43-.59-.52 0-1.04.2-1.43.59L10.3 9.45l-7.72 7.72c-.78.78-.78 2.05 0 2.83L4 21.41c.39.39.9.59 1.41.59.51 0 1.02-.2 1.41-.59l7.78-7.78 2.81-2.81c.8-.78.8-2.07 0-2.86zM5.41 20L4 18.59l7.72-7.72 1.47 1.35L5.41 20z\"/>\n",
              "  </svg>\n",
              "      </button>\n",
              "      \n",
              "  <style>\n",
              "    .colab-df-container {\n",
              "      display:flex;\n",
              "      flex-wrap:wrap;\n",
              "      gap: 12px;\n",
              "    }\n",
              "\n",
              "    .colab-df-convert {\n",
              "      background-color: #E8F0FE;\n",
              "      border: none;\n",
              "      border-radius: 50%;\n",
              "      cursor: pointer;\n",
              "      display: none;\n",
              "      fill: #1967D2;\n",
              "      height: 32px;\n",
              "      padding: 0 0 0 0;\n",
              "      width: 32px;\n",
              "    }\n",
              "\n",
              "    .colab-df-convert:hover {\n",
              "      background-color: #E2EBFA;\n",
              "      box-shadow: 0px 1px 2px rgba(60, 64, 67, 0.3), 0px 1px 3px 1px rgba(60, 64, 67, 0.15);\n",
              "      fill: #174EA6;\n",
              "    }\n",
              "\n",
              "    [theme=dark] .colab-df-convert {\n",
              "      background-color: #3B4455;\n",
              "      fill: #D2E3FC;\n",
              "    }\n",
              "\n",
              "    [theme=dark] .colab-df-convert:hover {\n",
              "      background-color: #434B5C;\n",
              "      box-shadow: 0px 1px 3px 1px rgba(0, 0, 0, 0.15);\n",
              "      filter: drop-shadow(0px 1px 2px rgba(0, 0, 0, 0.3));\n",
              "      fill: #FFFFFF;\n",
              "    }\n",
              "  </style>\n",
              "\n",
              "      <script>\n",
              "        const buttonEl =\n",
              "          document.querySelector('#df-3a04b7a8-c614-488b-838a-693dec858c58 button.colab-df-convert');\n",
              "        buttonEl.style.display =\n",
              "          google.colab.kernel.accessAllowed ? 'block' : 'none';\n",
              "\n",
              "        async function convertToInteractive(key) {\n",
              "          const element = document.querySelector('#df-3a04b7a8-c614-488b-838a-693dec858c58');\n",
              "          const dataTable =\n",
              "            await google.colab.kernel.invokeFunction('convertToInteractive',\n",
              "                                                     [key], {});\n",
              "          if (!dataTable) return;\n",
              "\n",
              "          const docLinkHtml = 'Like what you see? Visit the ' +\n",
              "            '<a target=\"_blank\" href=https://colab.research.google.com/notebooks/data_table.ipynb>data table notebook</a>'\n",
              "            + ' to learn more about interactive tables.';\n",
              "          element.innerHTML = '';\n",
              "          dataTable['output_type'] = 'display_data';\n",
              "          await google.colab.output.renderOutput(dataTable, element);\n",
              "          const docLink = document.createElement('div');\n",
              "          docLink.innerHTML = docLinkHtml;\n",
              "          element.appendChild(docLink);\n",
              "        }\n",
              "      </script>\n",
              "    </div>\n",
              "  </div>\n",
              "  "
            ]
          },
          "metadata": {},
          "execution_count": 22
        }
      ]
    },
    {
      "cell_type": "code",
      "source": [
        "ball_tracking_data_clean.select_dtypes(object).columns"
      ],
      "metadata": {
        "colab": {
          "base_uri": "https://localhost:8080/"
        },
        "id": "ZP5SuJvnGM3p",
        "outputId": "c26933b2-50ad-4a2c-b0b5-2c0450fb862a"
      },
      "execution_count": null,
      "outputs": [
        {
          "output_type": "execute_result",
          "data": {
            "text/plain": [
              "Index(['batting_hand', 'bowling_hand', 'bowling_type'], dtype='object')"
            ]
          },
          "metadata": {},
          "execution_count": 23
        }
      ]
    },
    {
      "cell_type": "code",
      "source": [
        "# Let's encode our categorical attributes\n",
        "from sklearn.preprocessing import LabelEncoder\n",
        "\n",
        "label_encoder = LabelEncoder()\n",
        "\n",
        "# Encode each object features\n",
        "for col in ball_tracking_data_clean.select_dtypes(object).columns:\n",
        "  ball_tracking_data_clean[col] = label_encoder.fit_transform(ball_tracking_data_clean[col])\n",
        "  print(col, \"unique values:\", ball_tracking_data_clean[col].unique())\n"
      ],
      "metadata": {
        "colab": {
          "base_uri": "https://localhost:8080/"
        },
        "id": "lbsG0UjKDVzo",
        "outputId": "a6086666-ace7-403a-96d5-4a6d97502644"
      },
      "execution_count": null,
      "outputs": [
        {
          "output_type": "stream",
          "name": "stderr",
          "text": [
            "/usr/local/lib/python3.7/dist-packages/ipykernel_launcher.py:8: SettingWithCopyWarning: \n",
            "A value is trying to be set on a copy of a slice from a DataFrame.\n",
            "Try using .loc[row_indexer,col_indexer] = value instead\n",
            "\n",
            "See the caveats in the documentation: https://pandas.pydata.org/pandas-docs/stable/user_guide/indexing.html#returning-a-view-versus-a-copy\n",
            "  \n"
          ]
        },
        {
          "output_type": "stream",
          "name": "stdout",
          "text": [
            "batting_hand unique values: [0 1]\n",
            "bowling_hand unique values: [1 0]\n",
            "bowling_type unique values: [1 0]\n"
          ]
        }
      ]
    },
    {
      "cell_type": "code",
      "source": [
        "# Check for categorical attributes\n",
        "ball_tracking_data_clean.info()"
      ],
      "metadata": {
        "colab": {
          "base_uri": "https://localhost:8080/"
        },
        "id": "mOrnpVDMYyW_",
        "outputId": "fd02f74b-87a4-477e-858f-ed0649ad55b3"
      },
      "execution_count": null,
      "outputs": [
        {
          "output_type": "stream",
          "name": "stdout",
          "text": [
            "<class 'pandas.core.frame.DataFrame'>\n",
            "Int64Index: 193883 entries, 0 to 200788\n",
            "Data columns (total 18 columns):\n",
            " #   Column                   Non-Null Count   Dtype  \n",
            "---  ------                   --------------   -----  \n",
            " 0   release_speed_kph        193883 non-null  float64\n",
            " 1   swing_angle              193883 non-null  float64\n",
            " 2   deviation                193883 non-null  float64\n",
            " 3   release_position_y       193883 non-null  float64\n",
            " 4   release_position_z       193883 non-null  float64\n",
            " 5   bounce_position_y        193883 non-null  float64\n",
            " 6   bounce_position_x        193883 non-null  float64\n",
            " 7   stumps_position_y        193883 non-null  float64\n",
            " 8   stumps_position_z        193883 non-null  float64\n",
            " 9   bounce_velocity_ratio_z  193883 non-null  float64\n",
            " 10  release_angle            193883 non-null  float64\n",
            " 11  drop_angle               193883 non-null  float64\n",
            " 12  bounce_angle             193883 non-null  float64\n",
            " 13  batting_hand             193883 non-null  int64  \n",
            " 14  bowling_hand             193883 non-null  int64  \n",
            " 15  bowling_type             193883 non-null  int64  \n",
            " 16  runs                     193883 non-null  int64  \n",
            " 17  wicket                   193883 non-null  int64  \n",
            "dtypes: float64(13), int64(5)\n",
            "memory usage: 28.1 MB\n"
          ]
        }
      ]
    },
    {
      "cell_type": "markdown",
      "source": [
        "- We remain with numerical data"
      ],
      "metadata": {
        "id": "5Ob7xkjLY-EQ"
      }
    },
    {
      "cell_type": "code",
      "source": [
        "ball_tracking_data_clean.head()"
      ],
      "metadata": {
        "colab": {
          "base_uri": "https://localhost:8080/",
          "height": 270
        },
        "id": "VecqxxyYYkPr",
        "outputId": "0bc000b2-04e7-42da-a1b1-80f5a217d92b"
      },
      "execution_count": null,
      "outputs": [
        {
          "output_type": "execute_result",
          "data": {
            "text/plain": [
              "   release_speed_kph  swing_angle  deviation  release_position_y  \\\n",
              "0              87.42        -1.64       2.44                0.78   \n",
              "1             141.37         0.83      -0.36               -0.76   \n",
              "2             133.41        -0.80       0.16                0.30   \n",
              "4              89.12         0.81      -2.45               -0.62   \n",
              "6              96.64         0.32       0.71               -0.84   \n",
              "\n",
              "   release_position_z  bounce_position_y  bounce_position_x  \\\n",
              "0                2.12               0.27               5.35   \n",
              "1                2.10              -0.15               7.29   \n",
              "2                1.83               0.15               3.78   \n",
              "4                2.15               0.13               4.03   \n",
              "6                2.05              -0.01               5.36   \n",
              "\n",
              "   stumps_position_y  stumps_position_z  bounce_velocity_ratio_z  \\\n",
              "0               0.21               0.49                    -0.50   \n",
              "1               0.27               0.80                    -0.59   \n",
              "2               0.10               0.27                    -0.47   \n",
              "4               0.21               0.57                    -0.57   \n",
              "6               0.42               0.57                    -0.52   \n",
              "\n",
              "   release_angle  drop_angle  bounce_angle  batting_hand  bowling_hand  \\\n",
              "0          -2.81      -15.69          8.78             0             1   \n",
              "1          -8.88      -12.34          7.90             1             1   \n",
              "2          -4.72       -9.53          4.91             1             0   \n",
              "4          -0.72      -16.55         10.25             1             1   \n",
              "6          -2.52      -15.39          8.76             1             0   \n",
              "\n",
              "   bowling_type  runs  wicket  \n",
              "0             1     1       0  \n",
              "1             0     1       0  \n",
              "2             0     1       0  \n",
              "4             1     1       0  \n",
              "6             1     0       0  "
            ],
            "text/html": [
              "\n",
              "  <div id=\"df-b40d6b51-9d5a-4da0-9cbf-2c6934735b29\">\n",
              "    <div class=\"colab-df-container\">\n",
              "      <div>\n",
              "<style scoped>\n",
              "    .dataframe tbody tr th:only-of-type {\n",
              "        vertical-align: middle;\n",
              "    }\n",
              "\n",
              "    .dataframe tbody tr th {\n",
              "        vertical-align: top;\n",
              "    }\n",
              "\n",
              "    .dataframe thead th {\n",
              "        text-align: right;\n",
              "    }\n",
              "</style>\n",
              "<table border=\"1\" class=\"dataframe\">\n",
              "  <thead>\n",
              "    <tr style=\"text-align: right;\">\n",
              "      <th></th>\n",
              "      <th>release_speed_kph</th>\n",
              "      <th>swing_angle</th>\n",
              "      <th>deviation</th>\n",
              "      <th>release_position_y</th>\n",
              "      <th>release_position_z</th>\n",
              "      <th>bounce_position_y</th>\n",
              "      <th>bounce_position_x</th>\n",
              "      <th>stumps_position_y</th>\n",
              "      <th>stumps_position_z</th>\n",
              "      <th>bounce_velocity_ratio_z</th>\n",
              "      <th>release_angle</th>\n",
              "      <th>drop_angle</th>\n",
              "      <th>bounce_angle</th>\n",
              "      <th>batting_hand</th>\n",
              "      <th>bowling_hand</th>\n",
              "      <th>bowling_type</th>\n",
              "      <th>runs</th>\n",
              "      <th>wicket</th>\n",
              "    </tr>\n",
              "  </thead>\n",
              "  <tbody>\n",
              "    <tr>\n",
              "      <th>0</th>\n",
              "      <td>87.42</td>\n",
              "      <td>-1.64</td>\n",
              "      <td>2.44</td>\n",
              "      <td>0.78</td>\n",
              "      <td>2.12</td>\n",
              "      <td>0.27</td>\n",
              "      <td>5.35</td>\n",
              "      <td>0.21</td>\n",
              "      <td>0.49</td>\n",
              "      <td>-0.50</td>\n",
              "      <td>-2.81</td>\n",
              "      <td>-15.69</td>\n",
              "      <td>8.78</td>\n",
              "      <td>0</td>\n",
              "      <td>1</td>\n",
              "      <td>1</td>\n",
              "      <td>1</td>\n",
              "      <td>0</td>\n",
              "    </tr>\n",
              "    <tr>\n",
              "      <th>1</th>\n",
              "      <td>141.37</td>\n",
              "      <td>0.83</td>\n",
              "      <td>-0.36</td>\n",
              "      <td>-0.76</td>\n",
              "      <td>2.10</td>\n",
              "      <td>-0.15</td>\n",
              "      <td>7.29</td>\n",
              "      <td>0.27</td>\n",
              "      <td>0.80</td>\n",
              "      <td>-0.59</td>\n",
              "      <td>-8.88</td>\n",
              "      <td>-12.34</td>\n",
              "      <td>7.90</td>\n",
              "      <td>1</td>\n",
              "      <td>1</td>\n",
              "      <td>0</td>\n",
              "      <td>1</td>\n",
              "      <td>0</td>\n",
              "    </tr>\n",
              "    <tr>\n",
              "      <th>2</th>\n",
              "      <td>133.41</td>\n",
              "      <td>-0.80</td>\n",
              "      <td>0.16</td>\n",
              "      <td>0.30</td>\n",
              "      <td>1.83</td>\n",
              "      <td>0.15</td>\n",
              "      <td>3.78</td>\n",
              "      <td>0.10</td>\n",
              "      <td>0.27</td>\n",
              "      <td>-0.47</td>\n",
              "      <td>-4.72</td>\n",
              "      <td>-9.53</td>\n",
              "      <td>4.91</td>\n",
              "      <td>1</td>\n",
              "      <td>0</td>\n",
              "      <td>0</td>\n",
              "      <td>1</td>\n",
              "      <td>0</td>\n",
              "    </tr>\n",
              "    <tr>\n",
              "      <th>4</th>\n",
              "      <td>89.12</td>\n",
              "      <td>0.81</td>\n",
              "      <td>-2.45</td>\n",
              "      <td>-0.62</td>\n",
              "      <td>2.15</td>\n",
              "      <td>0.13</td>\n",
              "      <td>4.03</td>\n",
              "      <td>0.21</td>\n",
              "      <td>0.57</td>\n",
              "      <td>-0.57</td>\n",
              "      <td>-0.72</td>\n",
              "      <td>-16.55</td>\n",
              "      <td>10.25</td>\n",
              "      <td>1</td>\n",
              "      <td>1</td>\n",
              "      <td>1</td>\n",
              "      <td>1</td>\n",
              "      <td>0</td>\n",
              "    </tr>\n",
              "    <tr>\n",
              "      <th>6</th>\n",
              "      <td>96.64</td>\n",
              "      <td>0.32</td>\n",
              "      <td>0.71</td>\n",
              "      <td>-0.84</td>\n",
              "      <td>2.05</td>\n",
              "      <td>-0.01</td>\n",
              "      <td>5.36</td>\n",
              "      <td>0.42</td>\n",
              "      <td>0.57</td>\n",
              "      <td>-0.52</td>\n",
              "      <td>-2.52</td>\n",
              "      <td>-15.39</td>\n",
              "      <td>8.76</td>\n",
              "      <td>1</td>\n",
              "      <td>0</td>\n",
              "      <td>1</td>\n",
              "      <td>0</td>\n",
              "      <td>0</td>\n",
              "    </tr>\n",
              "  </tbody>\n",
              "</table>\n",
              "</div>\n",
              "      <button class=\"colab-df-convert\" onclick=\"convertToInteractive('df-b40d6b51-9d5a-4da0-9cbf-2c6934735b29')\"\n",
              "              title=\"Convert this dataframe to an interactive table.\"\n",
              "              style=\"display:none;\">\n",
              "        \n",
              "  <svg xmlns=\"http://www.w3.org/2000/svg\" height=\"24px\"viewBox=\"0 0 24 24\"\n",
              "       width=\"24px\">\n",
              "    <path d=\"M0 0h24v24H0V0z\" fill=\"none\"/>\n",
              "    <path d=\"M18.56 5.44l.94 2.06.94-2.06 2.06-.94-2.06-.94-.94-2.06-.94 2.06-2.06.94zm-11 1L8.5 8.5l.94-2.06 2.06-.94-2.06-.94L8.5 2.5l-.94 2.06-2.06.94zm10 10l.94 2.06.94-2.06 2.06-.94-2.06-.94-.94-2.06-.94 2.06-2.06.94z\"/><path d=\"M17.41 7.96l-1.37-1.37c-.4-.4-.92-.59-1.43-.59-.52 0-1.04.2-1.43.59L10.3 9.45l-7.72 7.72c-.78.78-.78 2.05 0 2.83L4 21.41c.39.39.9.59 1.41.59.51 0 1.02-.2 1.41-.59l7.78-7.78 2.81-2.81c.8-.78.8-2.07 0-2.86zM5.41 20L4 18.59l7.72-7.72 1.47 1.35L5.41 20z\"/>\n",
              "  </svg>\n",
              "      </button>\n",
              "      \n",
              "  <style>\n",
              "    .colab-df-container {\n",
              "      display:flex;\n",
              "      flex-wrap:wrap;\n",
              "      gap: 12px;\n",
              "    }\n",
              "\n",
              "    .colab-df-convert {\n",
              "      background-color: #E8F0FE;\n",
              "      border: none;\n",
              "      border-radius: 50%;\n",
              "      cursor: pointer;\n",
              "      display: none;\n",
              "      fill: #1967D2;\n",
              "      height: 32px;\n",
              "      padding: 0 0 0 0;\n",
              "      width: 32px;\n",
              "    }\n",
              "\n",
              "    .colab-df-convert:hover {\n",
              "      background-color: #E2EBFA;\n",
              "      box-shadow: 0px 1px 2px rgba(60, 64, 67, 0.3), 0px 1px 3px 1px rgba(60, 64, 67, 0.15);\n",
              "      fill: #174EA6;\n",
              "    }\n",
              "\n",
              "    [theme=dark] .colab-df-convert {\n",
              "      background-color: #3B4455;\n",
              "      fill: #D2E3FC;\n",
              "    }\n",
              "\n",
              "    [theme=dark] .colab-df-convert:hover {\n",
              "      background-color: #434B5C;\n",
              "      box-shadow: 0px 1px 3px 1px rgba(0, 0, 0, 0.15);\n",
              "      filter: drop-shadow(0px 1px 2px rgba(0, 0, 0, 0.3));\n",
              "      fill: #FFFFFF;\n",
              "    }\n",
              "  </style>\n",
              "\n",
              "      <script>\n",
              "        const buttonEl =\n",
              "          document.querySelector('#df-b40d6b51-9d5a-4da0-9cbf-2c6934735b29 button.colab-df-convert');\n",
              "        buttonEl.style.display =\n",
              "          google.colab.kernel.accessAllowed ? 'block' : 'none';\n",
              "\n",
              "        async function convertToInteractive(key) {\n",
              "          const element = document.querySelector('#df-b40d6b51-9d5a-4da0-9cbf-2c6934735b29');\n",
              "          const dataTable =\n",
              "            await google.colab.kernel.invokeFunction('convertToInteractive',\n",
              "                                                     [key], {});\n",
              "          if (!dataTable) return;\n",
              "\n",
              "          const docLinkHtml = 'Like what you see? Visit the ' +\n",
              "            '<a target=\"_blank\" href=https://colab.research.google.com/notebooks/data_table.ipynb>data table notebook</a>'\n",
              "            + ' to learn more about interactive tables.';\n",
              "          element.innerHTML = '';\n",
              "          dataTable['output_type'] = 'display_data';\n",
              "          await google.colab.output.renderOutput(dataTable, element);\n",
              "          const docLink = document.createElement('div');\n",
              "          docLink.innerHTML = docLinkHtml;\n",
              "          element.appendChild(docLink);\n",
              "        }\n",
              "      </script>\n",
              "    </div>\n",
              "  </div>\n",
              "  "
            ]
          },
          "metadata": {},
          "execution_count": 26
        }
      ]
    },
    {
      "cell_type": "code",
      "source": [
        "tracking = ball_tracking_data_clean.copy()"
      ],
      "metadata": {
        "id": "YeFXikFbZKKc"
      },
      "execution_count": null,
      "outputs": []
    },
    {
      "cell_type": "markdown",
      "source": [
        "### Function I'm going to use for the differents classification models and split the data"
      ],
      "metadata": {
        "id": "ofw_kIjknROH"
      }
    },
    {
      "cell_type": "code",
      "source": [
        "# Set up classification report\n",
        "def evaluate_model(model, y_true, y_pred):\n",
        "    print('Model: ', model)\n",
        "    print(classification_report(y_true, y_pred))\n",
        "    print('\\n')"
      ],
      "metadata": {
        "id": "sftpWT6lmuuU"
      },
      "execution_count": null,
      "outputs": []
    },
    {
      "cell_type": "code",
      "source": [
        "def plot_confusion_matrix(model, title, y_true, y_pred, encoder):\n",
        "    plt.figure(figsize=(10, 8))\n",
        "    xticks = encoder.inverse_transform(model.classes_)\n",
        "    yticks = encoder.inverse_transform(model.classes_)\n",
        "    cm = confusion_matrix(y_true, y_pred)\n",
        "    norm_cm = cm / cm.sum(axis=1).reshape(-1, 1)\n",
        "    sns.heatmap(norm_cm, annot=True, cmap='Blues', xticklabels=xticks, yticklabels=yticks,\n",
        "                vmin=0, vmax=1)\n",
        "    plt.title(title)\n",
        "    plt.ylabel('True label')\n",
        "    plt.xlabel('Predicted label')\n",
        "    plt.show()\n"
      ],
      "metadata": {
        "id": "qbxXJcs3m67A"
      },
      "execution_count": null,
      "outputs": []
    },
    {
      "cell_type": "code",
      "source": [
        "def print_5(y_pred, y_test):\n",
        "    print(\"first five predicted values:\", y_pred[0:5])\n",
        "    print(\"first five actual values:\", list(y_test[0:5]))"
      ],
      "metadata": {
        "id": "PqSKbezWnBST"
      },
      "execution_count": null,
      "outputs": []
    },
    {
      "cell_type": "code",
      "source": [
        "def print_scores(model_name, y_pred, y_test):\n",
        "    # Evaluate the Decision Tree Model on Test Data\n",
        "    # the evaluation metrics for the model on the test set\n",
        "    print(\"Results of the Decision Tree Model:\")\n",
        "    accuracy = accuracy_score(y_test, y_pred)\n",
        "    print(\"Accuracy Score:\", round(accuracy, 2))\n",
        "    precision = precision_score(y_test, y_pred, average='macro')\n",
        "    print(\"Precision Score:\", round(precision, 2))\n",
        "    recall = recall_score(y_test, y_pred, average='macro')\n",
        "    print(\"Recall Score:\", round(recall, 2))\n",
        "    f1 = f1_score(y_test, y_pred, average='macro')\n",
        "    print(\"F1 Score:\", round(f1, 2))\n",
        "    return pd.DataFrame(index=[\"Accuracy\", \"Precision\", \"Recall\", \"F1\"],\n",
        "                           data=[accuracy, precision, recall, f1], columns=[model_name])"
      ],
      "metadata": {
        "id": "ecBKqhornCQP"
      },
      "execution_count": null,
      "outputs": []
    },
    {
      "cell_type": "code",
      "source": [
        "def feature_importance_plot(model, X_train, n=10):\n",
        "    \"\"\"Plots feature importance - this only works for Decision Tree based Models\"\"\"\n",
        "    plt.figure(figsize=(8, 5)) # set figure size\n",
        "    feat_importances = pd.Series(model.feature_importances_,\n",
        "                                 index = X_train.columns)\n",
        "    feat_importances.nlargest(n).plot(kind = 'bar')\n",
        "    plt.title(f\"Top {n} Features\")\n",
        "    plt.show()"
      ],
      "metadata": {
        "id": "v1x_ND4mvIIx"
      },
      "execution_count": null,
      "outputs": []
    },
    {
      "cell_type": "code",
      "source": [
        "def learning_curve_plot(model, X_train, y_train, scoring):\n",
        "    \"\"\"Plots learning curves for model validation\n",
        "    \n",
        "    @param models - list of models we are interested in evaluating\n",
        "    @param X_train - the training features\n",
        "    @param y_train - the target\n",
        "    \n",
        "    @returns a plot of the learning curve\n",
        "    \"\"\"\n",
        "    \n",
        "    plt.figure(figsize=(5, 5)) # set figure size\n",
        "    train_sizes, train_scores, test_scores = learning_curve(\n",
        "        model,\n",
        "        X_train,\n",
        "        y_train,\n",
        "        # Number of folds in cross-validation\n",
        "        cv = 5,\n",
        "        # Evaluation metric\n",
        "        scoring = scoring,\n",
        "        # Use all computer cores\n",
        "        n_jobs = -1,\n",
        "        shuffle = True,\n",
        "        # 5 different sizes of the training set\n",
        "        train_sizes = np.linspace(0.01, 1.0, 5))\n",
        "\n",
        "    # Create means and standard deviations of training set scores\n",
        "    train_mean = np.mean(train_scores, axis = 1)\n",
        "    train_std = np.std(train_scores, axis = 1)\n",
        "\n",
        "    # Create means and standard deviations of test set scores\n",
        "    test_mean = np.mean(test_scores, axis = 1)\n",
        "    test_std = np.std(test_scores, axis = 1)\n",
        "\n",
        "    # Draw lines\n",
        "    plt.plot(train_sizes, train_mean, '--', color = \"#111111\", label = \"Training score\")\n",
        "    plt.plot(train_sizes, test_mean, color = \"#111111\", label = \"Cross-validation score\")\n",
        "\n",
        "    # Draw bands\n",
        "    # plt.fill_between(train_sizes, train_mean - train_std, train_mean + train_std, color = \"#DDDDDD\")\n",
        "    # plt.fill_between(train_sizes, test_mean - test_std, test_mean + test_std, color = \"#DDDDDD\")\n",
        "\n",
        "    # Create plot\n",
        "    plt.title(\"Learning Curves\")\n",
        "    plt.xlabel(\"Training Set Size\"), plt.ylabel(\"Error\"), plt.legend(loc = \"best\")\n",
        "    plt.tight_layout()\n",
        "    \n",
        "    plt.show()"
      ],
      "metadata": {
        "id": "bTmN6zOfnJgy"
      },
      "execution_count": null,
      "outputs": []
    },
    {
      "cell_type": "markdown",
      "source": [
        "## Binary Classification Models, Target: Wicket"
      ],
      "metadata": {
        "id": "x_8l_QmOnv4w"
      }
    },
    {
      "cell_type": "code",
      "source": [
        "# Define target and features variables\n",
        "target = tracking.wicket #y\n",
        "features = tracking.drop(['wicket'], axis = 1) #X\n",
        "print(target.shape)\n",
        "print(features.shape)"
      ],
      "metadata": {
        "id": "aG-xRUXqyc-J",
        "outputId": "43748f40-331d-4d63-f92a-67192539fef6",
        "colab": {
          "base_uri": "https://localhost:8080/"
        }
      },
      "execution_count": null,
      "outputs": [
        {
          "output_type": "stream",
          "name": "stdout",
          "text": [
            "(193883,)\n",
            "(193883, 17)\n"
          ]
        }
      ]
    },
    {
      "cell_type": "code",
      "source": [
        "# Split the data to training and test \n",
        "X_train, X_test, y_train, y_test = train_test_split(features, target, test_size = 0.3, \n",
        "                                                random_state = 42)"
      ],
      "metadata": {
        "id": "6acMLcEYygu8"
      },
      "execution_count": null,
      "outputs": []
    },
    {
      "cell_type": "markdown",
      "source": [
        "## I going to Implement 3 models: DecisionTree, RandomForest, Xgboost"
      ],
      "metadata": {
        "id": "QFNxtbUab5Ja"
      }
    },
    {
      "cell_type": "code",
      "source": [
        "# Set up pipelines to simplify model fitting\n",
        "rf = Pipeline([#('tfidf', transformer),\n",
        "                ('scaler', StandardScaler(with_mean=False)),\n",
        "               ('clf', RandomForestClassifier(max_depth=5,\n",
        "                                              n_estimators=100,\n",
        "                                              random_state=42))])\n",
        "dt = Pipeline([#('tfidf', transformer),\n",
        "                ('scaler', StandardScaler(with_mean=False)),\n",
        "               ('clf', DecisionTreeClassifier(max_depth=5,\n",
        "                                              random_state=42))])\n",
        "xgb = Pipeline([#('tfidf', transformer),\n",
        "                ('scaler', StandardScaler(with_mean=False)),\n",
        "               ('clf', XGBClassifier(max_depth=5,\n",
        "                                              n_estimators=100,\n",
        "                                              random_state=42))])"
      ],
      "metadata": {
        "id": "sPsz5mIuf_zq"
      },
      "execution_count": null,
      "outputs": []
    },
    {
      "cell_type": "markdown",
      "source": [
        "### Decision Tree"
      ],
      "metadata": {
        "id": "Na3Ty0SBcH3c"
      }
    },
    {
      "cell_type": "code",
      "source": [
        "dt = DecisionTreeClassifier()\n",
        "dt.fit(X_train, y_train)"
      ],
      "metadata": {
        "colab": {
          "base_uri": "https://localhost:8080/"
        },
        "id": "ZGPE1Zh0a3Gm",
        "outputId": "da6be184-0e95-4c22-c52b-44b4f7655601"
      },
      "execution_count": null,
      "outputs": [
        {
          "output_type": "execute_result",
          "data": {
            "text/plain": [
              "DecisionTreeClassifier()"
            ]
          },
          "metadata": {},
          "execution_count": 37
        }
      ]
    },
    {
      "cell_type": "code",
      "source": [
        "# Make predictions and call this variable y_pred_dt\n",
        "y_pred_dt = dt.predict(X_test)"
      ],
      "metadata": {
        "id": "GfjgUB5JfUmh"
      },
      "execution_count": null,
      "outputs": []
    },
    {
      "cell_type": "code",
      "source": [
        "# Apply the function for the 5 first prediction of the Decicsion Tree model\n",
        "print_5(y_pred_dt,y_test)"
      ],
      "metadata": {
        "colab": {
          "base_uri": "https://localhost:8080/"
        },
        "id": "7cFjlgpTgVFb",
        "outputId": "d2d9f32f-9637-443a-c010-013625a02ce8"
      },
      "execution_count": null,
      "outputs": [
        {
          "output_type": "stream",
          "name": "stdout",
          "text": [
            "first five predicted values: [0 0 0 0 0]\n",
            "first five actual values: [0, 0, 0, 0, 0]\n"
          ]
        }
      ]
    },
    {
      "cell_type": "markdown",
      "source": [
        "- 100% precision for the first for the first five rows"
      ],
      "metadata": {
        "id": "e2d_eW5eovbS"
      }
    },
    {
      "cell_type": "code",
      "source": [
        "#print scores of decision tree model\n",
        "dt_scores = print_scores(\"Decision tree\", y_pred_dt, y_test)"
      ],
      "metadata": {
        "colab": {
          "base_uri": "https://localhost:8080/"
        },
        "id": "CYb1HKFmpFhY",
        "outputId": "0f8e2ec2-c75c-4071-a742-362b396f9638"
      },
      "execution_count": null,
      "outputs": [
        {
          "output_type": "stream",
          "name": "stdout",
          "text": [
            "Results of the Decision Tree Model:\n",
            "Accuracy Score: 0.91\n",
            "Precision Score: 0.57\n",
            "Recall Score: 0.58\n",
            "F1 Score: 0.58\n"
          ]
        }
      ]
    },
    {
      "cell_type": "code",
      "source": [
        "# Model performances\n",
        "#print scores of model for each wicket label\n",
        "evaluate_model(dt, y_test, y_pred_dt)"
      ],
      "metadata": {
        "colab": {
          "base_uri": "https://localhost:8080/"
        },
        "id": "70bD8DWQgX-H",
        "outputId": "c8e19a46-1e7d-47eb-a929-d877765a9fdf"
      },
      "execution_count": null,
      "outputs": [
        {
          "output_type": "stream",
          "name": "stdout",
          "text": [
            "Model:  DecisionTreeClassifier()\n",
            "              precision    recall  f1-score   support\n",
            "\n",
            "           0       0.96      0.95      0.96     55369\n",
            "           1       0.18      0.22      0.20      2796\n",
            "\n",
            "    accuracy                           0.91     58165\n",
            "   macro avg       0.57      0.58      0.58     58165\n",
            "weighted avg       0.92      0.91      0.92     58165\n",
            "\n",
            "\n",
            "\n"
          ]
        }
      ]
    },
    {
      "cell_type": "code",
      "source": [
        "# Let's plot the confusion matrix for decision tree\n",
        "plot_confusion_matrix(dt, \"Decision trees\", y_test, y_pred_dt, encoder=label_encoder)"
      ],
      "metadata": {
        "colab": {
          "base_uri": "https://localhost:8080/",
          "height": 513
        },
        "id": "tAEAbbEuluYO",
        "outputId": "1fd433c9-7918-4a92-8101-6c861a6be8d9"
      },
      "execution_count": null,
      "outputs": [
        {
          "output_type": "display_data",
          "data": {
            "text/plain": [
              "<Figure size 720x576 with 2 Axes>"
            ],
            "image/png": "[encoded data removed]"
          },
          "metadata": {
            "needs_background": "light"
          }
        }
      ]
    },
    {
      "cell_type": "markdown",
      "source": [
        "### Random Forest"
      ],
      "metadata": {
        "id": "lemAjbAgpr52"
      }
    },
    {
      "cell_type": "code",
      "source": [
        "# Build the model\n",
        "rf = RandomForestClassifier()\n",
        "rf.fit(X_train, y_train)"
      ],
      "metadata": {
        "colab": {
          "base_uri": "https://localhost:8080/"
        },
        "id": "uyLfno0Wpg0I",
        "outputId": "29c69869-b990-45a4-e081-a380b176d4bf"
      },
      "execution_count": null,
      "outputs": [
        {
          "output_type": "execute_result",
          "data": {
            "text/plain": [
              "RandomForestClassifier()"
            ]
          },
          "metadata": {},
          "execution_count": 43
        }
      ]
    },
    {
      "cell_type": "code",
      "source": [
        "# Make predictions and call this variable y_pred_dt\n",
        "y_pred_rf = rf.predict(X_test)"
      ],
      "metadata": {
        "id": "lx4z-ElupzB0"
      },
      "execution_count": null,
      "outputs": []
    },
    {
      "cell_type": "code",
      "source": [
        "# Optional: Print the first five predicted vs actual values\n",
        "print_5(y_pred_rf, y_test)"
      ],
      "metadata": {
        "colab": {
          "base_uri": "https://localhost:8080/"
        },
        "id": "6OHk4G7bpy_J",
        "outputId": "a1a779cf-dae2-4b39-9d83-853b5f613fce"
      },
      "execution_count": null,
      "outputs": [
        {
          "output_type": "stream",
          "name": "stdout",
          "text": [
            "first five predicted values: [0 0 0 0 0]\n",
            "first five actual values: [0, 0, 0, 0, 0]\n"
          ]
        }
      ]
    },
    {
      "cell_type": "code",
      "source": [
        "# Print scores of random forest model\n",
        "rf_scores = print_scores(\"Random forest\", y_pred_rf, y_test)"
      ],
      "metadata": {
        "colab": {
          "base_uri": "https://localhost:8080/"
        },
        "id": "JAXmA1Xmpy9r",
        "outputId": "84daebdd-54fe-446c-83e0-bc4cf7883577"
      },
      "execution_count": null,
      "outputs": [
        {
          "output_type": "stream",
          "name": "stdout",
          "text": [
            "Results of the Decision Tree Model:\n",
            "Accuracy Score: 0.95\n",
            "Precision Score: 0.73\n",
            "Recall Score: 0.5\n",
            "F1 Score: 0.5\n"
          ]
        }
      ]
    },
    {
      "cell_type": "code",
      "source": [
        "# Print scores of model for each genre\n",
        "evaluate_model(rf, y_test, y_pred_rf)"
      ],
      "metadata": {
        "colab": {
          "base_uri": "https://localhost:8080/"
        },
        "id": "7Ji_dMi8py7Q",
        "outputId": "ebe225c8-463e-4eb8-b278-13118c52dd4f"
      },
      "execution_count": null,
      "outputs": [
        {
          "output_type": "stream",
          "name": "stdout",
          "text": [
            "Model:  RandomForestClassifier()\n",
            "              precision    recall  f1-score   support\n",
            "\n",
            "           0       0.95      1.00      0.98     55369\n",
            "           1       0.50      0.01      0.02      2796\n",
            "\n",
            "    accuracy                           0.95     58165\n",
            "   macro avg       0.73      0.50      0.50     58165\n",
            "weighted avg       0.93      0.95      0.93     58165\n",
            "\n",
            "\n",
            "\n"
          ]
        }
      ]
    },
    {
      "cell_type": "code",
      "source": [
        "# Plot confusion matrix\n",
        "plot_confusion_matrix(rf, \"Random forest\", y_test, y_pred_rf, encoder=label_encoder)"
      ],
      "metadata": {
        "colab": {
          "base_uri": "https://localhost:8080/",
          "height": 513
        },
        "id": "7cRrNChXpy46",
        "outputId": "1b4ba921-b2bc-4357-f3fd-67797421be1e"
      },
      "execution_count": null,
      "outputs": [
        {
          "output_type": "display_data",
          "data": {
            "text/plain": [
              "<Figure size 720x576 with 2 Axes>"
            ],
            "image/png": "[encoded data removed]"
          },
          "metadata": {
            "needs_background": "light"
          }
        }
      ]
    },
    {
      "cell_type": "code",
      "source": [
        "# Build the model\n",
        "xgb = XGBClassifier()\n",
        "xgb.fit(X_train, y_train)"
      ],
      "metadata": {
        "colab": {
          "base_uri": "https://localhost:8080/"
        },
        "id": "t-83YYCvpy1O",
        "outputId": "229261d9-8970-4af1-ef54-edb6c0d30b73"
      },
      "execution_count": null,
      "outputs": [
        {
          "output_type": "execute_result",
          "data": {
            "text/plain": [
              "XGBClassifier()"
            ]
          },
          "metadata": {},
          "execution_count": 49
        }
      ]
    },
    {
      "cell_type": "code",
      "source": [
        "# Make predictions and call this variable y_pred_dt\n",
        "y_pred_xgb = xgb.predict(X_test)"
      ],
      "metadata": {
        "id": "wzv4GMfhpyyJ"
      },
      "execution_count": null,
      "outputs": []
    },
    {
      "cell_type": "code",
      "source": [
        "# Print the first five predicted vs actual values\n",
        "print_5(y_pred_xgb, y_test)"
      ],
      "metadata": {
        "colab": {
          "base_uri": "https://localhost:8080/"
        },
        "id": "THDs7wSKpymv",
        "outputId": "c5fe7cdb-edb6-444f-9823-e75d2b256d50"
      },
      "execution_count": null,
      "outputs": [
        {
          "output_type": "stream",
          "name": "stdout",
          "text": [
            "first five predicted values: [0 0 0 0 0]\n",
            "first five actual values: [0, 0, 0, 0, 0]\n"
          ]
        }
      ]
    },
    {
      "cell_type": "code",
      "source": [
        "# Print scores of XGBoost model\n",
        "xgb_scores = print_scores(\"XGBoost\", y_pred_xgb, y_test)"
      ],
      "metadata": {
        "colab": {
          "base_uri": "https://localhost:8080/"
        },
        "id": "whwe8hF6qfp2",
        "outputId": "638de9d0-94dd-47eb-aa7c-e6c8f2ccb7a6"
      },
      "execution_count": null,
      "outputs": [
        {
          "output_type": "stream",
          "name": "stdout",
          "text": [
            "Results of the Decision Tree Model:\n",
            "Accuracy Score: 0.95\n",
            "Precision Score: 0.48\n",
            "Recall Score: 0.5\n",
            "F1 Score: 0.49\n"
          ]
        },
        {
          "output_type": "stream",
          "name": "stderr",
          "text": [
            "/usr/local/lib/python3.7/dist-packages/sklearn/metrics/_classification.py:1318: UndefinedMetricWarning: Precision is ill-defined and being set to 0.0 in labels with no predicted samples. Use `zero_division` parameter to control this behavior.\n",
            "  _warn_prf(average, modifier, msg_start, len(result))\n"
          ]
        }
      ]
    },
    {
      "cell_type": "code",
      "source": [
        "# Print scores of model for each wicket label\n",
        "evaluate_model(xgb, y_test, y_pred_xgb)"
      ],
      "metadata": {
        "colab": {
          "base_uri": "https://localhost:8080/"
        },
        "id": "Tslu3aeoqlTZ",
        "outputId": "2f2dfe44-fe8e-452f-ce31-a59d656f51c5"
      },
      "execution_count": null,
      "outputs": [
        {
          "output_type": "stream",
          "name": "stdout",
          "text": [
            "Model:  XGBClassifier()\n",
            "              precision    recall  f1-score   support\n",
            "\n",
            "           0       0.95      1.00      0.98     55369\n",
            "           1       0.00      0.00      0.00      2796\n",
            "\n",
            "    accuracy                           0.95     58165\n",
            "   macro avg       0.48      0.50      0.49     58165\n",
            "weighted avg       0.91      0.95      0.93     58165\n",
            "\n",
            "\n",
            "\n"
          ]
        },
        {
          "output_type": "stream",
          "name": "stderr",
          "text": [
            "/usr/local/lib/python3.7/dist-packages/sklearn/metrics/_classification.py:1318: UndefinedMetricWarning: Precision and F-score are ill-defined and being set to 0.0 in labels with no predicted samples. Use `zero_division` parameter to control this behavior.\n",
            "  _warn_prf(average, modifier, msg_start, len(result))\n",
            "/usr/local/lib/python3.7/dist-packages/sklearn/metrics/_classification.py:1318: UndefinedMetricWarning: Precision and F-score are ill-defined and being set to 0.0 in labels with no predicted samples. Use `zero_division` parameter to control this behavior.\n",
            "  _warn_prf(average, modifier, msg_start, len(result))\n",
            "/usr/local/lib/python3.7/dist-packages/sklearn/metrics/_classification.py:1318: UndefinedMetricWarning: Precision and F-score are ill-defined and being set to 0.0 in labels with no predicted samples. Use `zero_division` parameter to control this behavior.\n",
            "  _warn_prf(average, modifier, msg_start, len(result))\n"
          ]
        }
      ]
    },
    {
      "cell_type": "code",
      "source": [
        "# Plot confusion matrix\n",
        "plot_confusion_matrix(dt, \"XGB\", y_test, y_pred_xgb, encoder=label_encoder)"
      ],
      "metadata": {
        "colab": {
          "base_uri": "https://localhost:8080/",
          "height": 513
        },
        "id": "SRPcSXsaqlAN",
        "outputId": "3e88ae2a-6332-451e-ffaf-e9b05082a70a"
      },
      "execution_count": null,
      "outputs": [
        {
          "output_type": "display_data",
          "data": {
            "text/plain": [
              "<Figure size 720x576 with 2 Axes>"
            ],
            "image/png": "[encoded data removed]"
          },
          "metadata": {
            "needs_background": "light"
          }
        }
      ]
    },
    {
      "cell_type": "markdown",
      "source": [
        "## Evaluating and Explaining Model Performances"
      ],
      "metadata": {
        "id": "xtcIRy8yrK3B"
      }
    },
    {
      "cell_type": "code",
      "source": [
        "# Df of all scores\n",
        "all_scores = pd.concat([dt_scores, rf_scores, xgb_scores], axis=1)\n",
        "all_scores"
      ],
      "metadata": {
        "colab": {
          "base_uri": "https://localhost:8080/",
          "height": 175
        },
        "id": "dzVZuh-iqk9Q",
        "outputId": "019138b2-73c8-455f-d9a5-d4904cfdaeff"
      },
      "execution_count": null,
      "outputs": [
        {
          "output_type": "execute_result",
          "data": {
            "text/plain": [
              "           Decision tree  Random forest   XGBoost\n",
              "Accuracy        0.914932       0.951930  0.951930\n",
              "Precision       0.569883       0.726183  0.475965\n",
              "Recall          0.583124       0.504754  0.500000\n",
              "F1              0.575660       0.497498  0.487687"
            ],
            "text/html": [
              "\n",
              "  <div id=\"df-cbe796de-ebf9-426d-876f-70fc46d11f5b\">\n",
              "    <div class=\"colab-df-container\">\n",
              "      <div>\n",
              "<style scoped>\n",
              "    .dataframe tbody tr th:only-of-type {\n",
              "        vertical-align: middle;\n",
              "    }\n",
              "\n",
              "    .dataframe tbody tr th {\n",
              "        vertical-align: top;\n",
              "    }\n",
              "\n",
              "    .dataframe thead th {\n",
              "        text-align: right;\n",
              "    }\n",
              "</style>\n",
              "<table border=\"1\" class=\"dataframe\">\n",
              "  <thead>\n",
              "    <tr style=\"text-align: right;\">\n",
              "      <th></th>\n",
              "      <th>Decision tree</th>\n",
              "      <th>Random forest</th>\n",
              "      <th>XGBoost</th>\n",
              "    </tr>\n",
              "  </thead>\n",
              "  <tbody>\n",
              "    <tr>\n",
              "      <th>Accuracy</th>\n",
              "      <td>0.914932</td>\n",
              "      <td>0.951930</td>\n",
              "      <td>0.951930</td>\n",
              "    </tr>\n",
              "    <tr>\n",
              "      <th>Precision</th>\n",
              "      <td>0.569883</td>\n",
              "      <td>0.726183</td>\n",
              "      <td>0.475965</td>\n",
              "    </tr>\n",
              "    <tr>\n",
              "      <th>Recall</th>\n",
              "      <td>0.583124</td>\n",
              "      <td>0.504754</td>\n",
              "      <td>0.500000</td>\n",
              "    </tr>\n",
              "    <tr>\n",
              "      <th>F1</th>\n",
              "      <td>0.575660</td>\n",
              "      <td>0.497498</td>\n",
              "      <td>0.487687</td>\n",
              "    </tr>\n",
              "  </tbody>\n",
              "</table>\n",
              "</div>\n",
              "      <button class=\"colab-df-convert\" onclick=\"convertToInteractive('df-cbe796de-ebf9-426d-876f-70fc46d11f5b')\"\n",
              "              title=\"Convert this dataframe to an interactive table.\"\n",
              "              style=\"display:none;\">\n",
              "        \n",
              "  <svg xmlns=\"http://www.w3.org/2000/svg\" height=\"24px\"viewBox=\"0 0 24 24\"\n",
              "       width=\"24px\">\n",
              "    <path d=\"M0 0h24v24H0V0z\" fill=\"none\"/>\n",
              "    <path d=\"M18.56 5.44l.94 2.06.94-2.06 2.06-.94-2.06-.94-.94-2.06-.94 2.06-2.06.94zm-11 1L8.5 8.5l.94-2.06 2.06-.94-2.06-.94L8.5 2.5l-.94 2.06-2.06.94zm10 10l.94 2.06.94-2.06 2.06-.94-2.06-.94-.94-2.06-.94 2.06-2.06.94z\"/><path d=\"M17.41 7.96l-1.37-1.37c-.4-.4-.92-.59-1.43-.59-.52 0-1.04.2-1.43.59L10.3 9.45l-7.72 7.72c-.78.78-.78 2.05 0 2.83L4 21.41c.39.39.9.59 1.41.59.51 0 1.02-.2 1.41-.59l7.78-7.78 2.81-2.81c.8-.78.8-2.07 0-2.86zM5.41 20L4 18.59l7.72-7.72 1.47 1.35L5.41 20z\"/>\n",
              "  </svg>\n",
              "      </button>\n",
              "      \n",
              "  <style>\n",
              "    .colab-df-container {\n",
              "      display:flex;\n",
              "      flex-wrap:wrap;\n",
              "      gap: 12px;\n",
              "    }\n",
              "\n",
              "    .colab-df-convert {\n",
              "      background-color: #E8F0FE;\n",
              "      border: none;\n",
              "      border-radius: 50%;\n",
              "      cursor: pointer;\n",
              "      display: none;\n",
              "      fill: #1967D2;\n",
              "      height: 32px;\n",
              "      padding: 0 0 0 0;\n",
              "      width: 32px;\n",
              "    }\n",
              "\n",
              "    .colab-df-convert:hover {\n",
              "      background-color: #E2EBFA;\n",
              "      box-shadow: 0px 1px 2px rgba(60, 64, 67, 0.3), 0px 1px 3px 1px rgba(60, 64, 67, 0.15);\n",
              "      fill: #174EA6;\n",
              "    }\n",
              "\n",
              "    [theme=dark] .colab-df-convert {\n",
              "      background-color: #3B4455;\n",
              "      fill: #D2E3FC;\n",
              "    }\n",
              "\n",
              "    [theme=dark] .colab-df-convert:hover {\n",
              "      background-color: #434B5C;\n",
              "      box-shadow: 0px 1px 3px 1px rgba(0, 0, 0, 0.15);\n",
              "      filter: drop-shadow(0px 1px 2px rgba(0, 0, 0, 0.3));\n",
              "      fill: #FFFFFF;\n",
              "    }\n",
              "  </style>\n",
              "\n",
              "      <script>\n",
              "        const buttonEl =\n",
              "          document.querySelector('#df-cbe796de-ebf9-426d-876f-70fc46d11f5b button.colab-df-convert');\n",
              "        buttonEl.style.display =\n",
              "          google.colab.kernel.accessAllowed ? 'block' : 'none';\n",
              "\n",
              "        async function convertToInteractive(key) {\n",
              "          const element = document.querySelector('#df-cbe796de-ebf9-426d-876f-70fc46d11f5b');\n",
              "          const dataTable =\n",
              "            await google.colab.kernel.invokeFunction('convertToInteractive',\n",
              "                                                     [key], {});\n",
              "          if (!dataTable) return;\n",
              "\n",
              "          const docLinkHtml = 'Like what you see? Visit the ' +\n",
              "            '<a target=\"_blank\" href=https://colab.research.google.com/notebooks/data_table.ipynb>data table notebook</a>'\n",
              "            + ' to learn more about interactive tables.';\n",
              "          element.innerHTML = '';\n",
              "          dataTable['output_type'] = 'display_data';\n",
              "          await google.colab.output.renderOutput(dataTable, element);\n",
              "          const docLink = document.createElement('div');\n",
              "          docLink.innerHTML = docLinkHtml;\n",
              "          element.appendChild(docLink);\n",
              "        }\n",
              "      </script>\n",
              "    </div>\n",
              "  </div>\n",
              "  "
            ]
          },
          "metadata": {},
          "execution_count": 55
        }
      ]
    },
    {
      "cell_type": "markdown",
      "source": [
        "### Conlusion: The Random forest is the best performing model"
      ],
      "metadata": {
        "id": "GjjhduL3sF34"
      }
    },
    {
      "cell_type": "code",
      "source": [
        "# Let's plot the learning curves \n",
        "learning_curve_plot(rf, X_train, y_train, \"accuracy\")"
      ],
      "metadata": {
        "colab": {
          "base_uri": "https://localhost:8080/",
          "height": 369
        },
        "id": "V1RieQtvqk5s",
        "outputId": "a8b81ccb-7d05-4bf9-edec-df8a263f61a8"
      },
      "execution_count": null,
      "outputs": [
        {
          "output_type": "display_data",
          "data": {
            "text/plain": [
              "<Figure size 360x360 with 1 Axes>"
            ],
            "image/png": "[encoded data removed]"
          },
          "metadata": {
            "needs_background": "light"
          }
        }
      ]
    },
    {
      "cell_type": "markdown",
      "source": [
        "Our model is overfitting the variance is high"
      ],
      "metadata": {
        "id": "RtxRjArKv3VV"
      }
    },
    {
      "cell_type": "code",
      "source": [
        "# Feature importance plot\n",
        "feature_importance_plot(rf, X_train)"
      ],
      "metadata": {
        "colab": {
          "base_uri": "https://localhost:8080/",
          "height": 421
        },
        "id": "4ZvWx7jSqkx0",
        "outputId": "90e774dc-83d0-4098-d2e3-fcdd7d074115"
      },
      "execution_count": null,
      "outputs": [
        {
          "output_type": "display_data",
          "data": {
            "text/plain": [
              "<Figure size 576x360 with 1 Axes>"
            ],
            "image/png": "[encoded data removed]"
          },
          "metadata": {
            "needs_background": "light"
          }
        }
      ]
    },
    {
      "cell_type": "markdown",
      "source": [
        "## Multi-class classification, Target: runs"
      ],
      "metadata": {
        "id": "WbA_0Brhw7Gp"
      }
    },
    {
      "cell_type": "code",
      "source": [
        "#### Set the new target and features\n",
        "target = tracking.runs #y\n",
        "features = tracking.drop(['runs'], axis = 1) #X\n",
        "print(target.shape)\n",
        "print(features.shape)\n"
      ],
      "metadata": {
        "id": "gGsm7_DDx79a",
        "colab": {
          "base_uri": "https://localhost:8080/"
        },
        "outputId": "2fc18add-b8ce-4050-8e81-0c8b62a600d9"
      },
      "execution_count": null,
      "outputs": [
        {
          "output_type": "stream",
          "name": "stdout",
          "text": [
            "(193883,)\n",
            "(193883, 17)\n"
          ]
        }
      ]
    },
    {
      "cell_type": "code",
      "source": [
        "# Split the data to training and test \n",
        "X_train, X_test, y_train, y_test = train_test_split(features, target, test_size = 0.3, \n",
        "                                                random_state = 42)"
      ],
      "metadata": {
        "id": "y-t80VhLyEc0"
      },
      "execution_count": null,
      "outputs": []
    },
    {
      "cell_type": "markdown",
      "source": [
        "## I going to Implement 3 models: DecisionTree, RandomForest, Xgboost"
      ],
      "metadata": {
        "id": "bQBbdTFWxGCv"
      }
    },
    {
      "cell_type": "markdown",
      "source": [
        "### Decision Tree"
      ],
      "metadata": {
        "id": "sAeuCJXyxkHJ"
      }
    },
    {
      "cell_type": "code",
      "source": [
        "dt = DecisionTreeClassifier()\n",
        "dt.fit(X_train, y_train)"
      ],
      "metadata": {
        "colab": {
          "base_uri": "https://localhost:8080/"
        },
        "id": "1U-Hq1PYzPLu",
        "outputId": "82ab2623-e5a6-42a3-96a4-bee2aadaf388"
      },
      "execution_count": null,
      "outputs": [
        {
          "output_type": "execute_result",
          "data": {
            "text/plain": [
              "DecisionTreeClassifier()"
            ]
          },
          "metadata": {},
          "execution_count": 60
        }
      ]
    },
    {
      "cell_type": "code",
      "source": [
        "# Make predictions and call this variable y_pred_dt\n",
        "y_pred_dt = dt.predict(X_test)"
      ],
      "metadata": {
        "id": "i2FWEFC_xuUU"
      },
      "execution_count": null,
      "outputs": []
    },
    {
      "cell_type": "code",
      "source": [
        "# Apply the function for the 5 first prediction of the Decicsion Tree model\n",
        "print_5(y_pred_dt,y_test)"
      ],
      "metadata": {
        "colab": {
          "base_uri": "https://localhost:8080/"
        },
        "id": "vo19Za2MzUzJ",
        "outputId": "33df4558-739f-4f98-f993-fbc46d23c7bf"
      },
      "execution_count": null,
      "outputs": [
        {
          "output_type": "stream",
          "name": "stdout",
          "text": [
            "first five predicted values: [2 4 4 2 0]\n",
            "first five actual values: [6, 1, 1, 0, 6]\n"
          ]
        }
      ]
    },
    {
      "cell_type": "code",
      "source": [
        "# Print scores of decision tree model\n",
        "dt_scores = print_scores(\"Decision tree\", y_pred_dt, y_test)"
      ],
      "metadata": {
        "colab": {
          "base_uri": "https://localhost:8080/"
        },
        "id": "R02SbrARzUwo",
        "outputId": "5e818d16-362e-43d5-e56b-2afdbc3634e1"
      },
      "execution_count": null,
      "outputs": [
        {
          "output_type": "stream",
          "name": "stdout",
          "text": [
            "Results of the Decision Tree Model:\n",
            "Accuracy Score: 0.36\n",
            "Precision Score: 0.17\n",
            "Recall Score: 0.17\n",
            "F1 Score: 0.17\n"
          ]
        }
      ]
    },
    {
      "cell_type": "code",
      "source": [
        "# Model performances\n",
        "#print scores of model for each wicket label\n",
        "evaluate_model(dt, y_test, y_pred_dt)"
      ],
      "metadata": {
        "colab": {
          "base_uri": "https://localhost:8080/"
        },
        "id": "GU7rZELWzUoa",
        "outputId": "08f12cf5-5b20-478d-814a-c1cdc1b0da45"
      },
      "execution_count": null,
      "outputs": [
        {
          "output_type": "stream",
          "name": "stdout",
          "text": [
            "Model:  DecisionTreeClassifier()\n",
            "              precision    recall  f1-score   support\n",
            "\n",
            "           0       0.46      0.46      0.46     21630\n",
            "           1       0.44      0.43      0.43     22813\n",
            "           2       0.08      0.08      0.08      3995\n",
            "           3       0.00      0.00      0.00       233\n",
            "           4       0.14      0.15      0.15      6458\n",
            "           5       0.00      0.00      0.00         6\n",
            "           6       0.07      0.07      0.07      3030\n",
            "\n",
            "    accuracy                           0.36     58165\n",
            "   macro avg       0.17      0.17      0.17     58165\n",
            "weighted avg       0.37      0.36      0.37     58165\n",
            "\n",
            "\n",
            "\n"
          ]
        }
      ]
    },
    {
      "cell_type": "code",
      "source": [
        "# Let's plot the confusion matrix for decision tree\n",
        "plot_confusion_matrix(dt,\"Decision trees\", y_test, y_pred_dt, encoder=label_encoder)"
      ],
      "metadata": {
        "colab": {
          "base_uri": "https://localhost:8080/",
          "height": 407
        },
        "id": "OasNdfCczUjz",
        "outputId": "02f510d9-498e-4f9c-e498-8873c4fa9b96"
      },
      "execution_count": null,
      "outputs": [
        {
          "output_type": "error",
          "ename": "ValueError",
          "evalue": "ignored",
          "traceback": [
            "\u001b[0;31m---------------------------------------------------------------------------\u001b[0m",
            "\u001b[0;31mValueError\u001b[0m                                Traceback (most recent call last)",
            "\u001b[0;32m<ipython-input-65-57be44005194>\u001b[0m in \u001b[0;36m<module>\u001b[0;34m()\u001b[0m\n\u001b[1;32m      1\u001b[0m \u001b[0;31m# Let's plot the confusion matrix for decision tree\u001b[0m\u001b[0;34m\u001b[0m\u001b[0;34m\u001b[0m\u001b[0;34m\u001b[0m\u001b[0m\n\u001b[0;32m----> 2\u001b[0;31m \u001b[0mplot_confusion_matrix\u001b[0m\u001b[0;34m(\u001b[0m\u001b[0mdt\u001b[0m\u001b[0;34m,\u001b[0m \u001b[0;34m\"Decision trees\"\u001b[0m\u001b[0;34m,\u001b[0m \u001b[0my_test\u001b[0m\u001b[0;34m,\u001b[0m \u001b[0my_pred_dt\u001b[0m\u001b[0;34m,\u001b[0m \u001b[0mencoder\u001b[0m\u001b[0;34m=\u001b[0m\u001b[0mlabel_encoder\u001b[0m\u001b[0;34m)\u001b[0m\u001b[0;34m\u001b[0m\u001b[0;34m\u001b[0m\u001b[0m\n\u001b[0m",
            "\u001b[0;32m<ipython-input-29-967f2105061f>\u001b[0m in \u001b[0;36mplot_confusion_matrix\u001b[0;34m(model, title, y_true, y_pred, encoder)\u001b[0m\n\u001b[1;32m      1\u001b[0m \u001b[0;32mdef\u001b[0m \u001b[0mplot_confusion_matrix\u001b[0m\u001b[0;34m(\u001b[0m\u001b[0mmodel\u001b[0m\u001b[0;34m,\u001b[0m \u001b[0mtitle\u001b[0m\u001b[0;34m,\u001b[0m \u001b[0my_true\u001b[0m\u001b[0;34m,\u001b[0m \u001b[0my_pred\u001b[0m\u001b[0;34m,\u001b[0m \u001b[0mencoder\u001b[0m\u001b[0;34m)\u001b[0m\u001b[0;34m:\u001b[0m\u001b[0;34m\u001b[0m\u001b[0;34m\u001b[0m\u001b[0m\n\u001b[1;32m      2\u001b[0m     \u001b[0mplt\u001b[0m\u001b[0;34m.\u001b[0m\u001b[0mfigure\u001b[0m\u001b[0;34m(\u001b[0m\u001b[0mfigsize\u001b[0m\u001b[0;34m=\u001b[0m\u001b[0;34m(\u001b[0m\u001b[0;36m10\u001b[0m\u001b[0;34m,\u001b[0m \u001b[0;36m8\u001b[0m\u001b[0;34m)\u001b[0m\u001b[0;34m)\u001b[0m\u001b[0;34m\u001b[0m\u001b[0;34m\u001b[0m\u001b[0m\n\u001b[0;32m----> 3\u001b[0;31m     \u001b[0mxticks\u001b[0m \u001b[0;34m=\u001b[0m \u001b[0mencoder\u001b[0m\u001b[0;34m.\u001b[0m\u001b[0minverse_transform\u001b[0m\u001b[0;34m(\u001b[0m\u001b[0mmodel\u001b[0m\u001b[0;34m.\u001b[0m\u001b[0mclasses_\u001b[0m\u001b[0;34m)\u001b[0m\u001b[0;34m\u001b[0m\u001b[0;34m\u001b[0m\u001b[0m\n\u001b[0m\u001b[1;32m      4\u001b[0m     \u001b[0myticks\u001b[0m \u001b[0;34m=\u001b[0m \u001b[0mencoder\u001b[0m\u001b[0;34m.\u001b[0m\u001b[0minverse_transform\u001b[0m\u001b[0;34m(\u001b[0m\u001b[0mmodel\u001b[0m\u001b[0;34m.\u001b[0m\u001b[0mclasses_\u001b[0m\u001b[0;34m)\u001b[0m\u001b[0;34m\u001b[0m\u001b[0;34m\u001b[0m\u001b[0m\n\u001b[1;32m      5\u001b[0m     \u001b[0mcm\u001b[0m \u001b[0;34m=\u001b[0m \u001b[0mconfusion_matrix\u001b[0m\u001b[0;34m(\u001b[0m\u001b[0my_true\u001b[0m\u001b[0;34m,\u001b[0m \u001b[0my_pred\u001b[0m\u001b[0;34m)\u001b[0m\u001b[0;34m\u001b[0m\u001b[0;34m\u001b[0m\u001b[0m\n",
            "\u001b[0;32m/usr/local/lib/python3.7/dist-packages/sklearn/preprocessing/_label.py\u001b[0m in \u001b[0;36minverse_transform\u001b[0;34m(self, y)\u001b[0m\n\u001b[1;32m    159\u001b[0m         \u001b[0mdiff\u001b[0m \u001b[0;34m=\u001b[0m \u001b[0mnp\u001b[0m\u001b[0;34m.\u001b[0m\u001b[0msetdiff1d\u001b[0m\u001b[0;34m(\u001b[0m\u001b[0my\u001b[0m\u001b[0;34m,\u001b[0m \u001b[0mnp\u001b[0m\u001b[0;34m.\u001b[0m\u001b[0marange\u001b[0m\u001b[0;34m(\u001b[0m\u001b[0mlen\u001b[0m\u001b[0;34m(\u001b[0m\u001b[0mself\u001b[0m\u001b[0;34m.\u001b[0m\u001b[0mclasses_\u001b[0m\u001b[0;34m)\u001b[0m\u001b[0;34m)\u001b[0m\u001b[0;34m)\u001b[0m\u001b[0;34m\u001b[0m\u001b[0;34m\u001b[0m\u001b[0m\n\u001b[1;32m    160\u001b[0m         \u001b[0;32mif\u001b[0m \u001b[0mlen\u001b[0m\u001b[0;34m(\u001b[0m\u001b[0mdiff\u001b[0m\u001b[0;34m)\u001b[0m\u001b[0;34m:\u001b[0m\u001b[0;34m\u001b[0m\u001b[0;34m\u001b[0m\u001b[0m\n\u001b[0;32m--> 161\u001b[0;31m             \u001b[0;32mraise\u001b[0m \u001b[0mValueError\u001b[0m\u001b[0;34m(\u001b[0m\u001b[0;34m\"y contains previously unseen labels: %s\"\u001b[0m \u001b[0;34m%\u001b[0m \u001b[0mstr\u001b[0m\u001b[0;34m(\u001b[0m\u001b[0mdiff\u001b[0m\u001b[0;34m)\u001b[0m\u001b[0;34m)\u001b[0m\u001b[0;34m\u001b[0m\u001b[0;34m\u001b[0m\u001b[0m\n\u001b[0m\u001b[1;32m    162\u001b[0m         \u001b[0my\u001b[0m \u001b[0;34m=\u001b[0m \u001b[0mnp\u001b[0m\u001b[0;34m.\u001b[0m\u001b[0masarray\u001b[0m\u001b[0;34m(\u001b[0m\u001b[0my\u001b[0m\u001b[0;34m)\u001b[0m\u001b[0;34m\u001b[0m\u001b[0;34m\u001b[0m\u001b[0m\n\u001b[1;32m    163\u001b[0m         \u001b[0;32mreturn\u001b[0m \u001b[0mself\u001b[0m\u001b[0;34m.\u001b[0m\u001b[0mclasses_\u001b[0m\u001b[0;34m[\u001b[0m\u001b[0my\u001b[0m\u001b[0;34m]\u001b[0m\u001b[0;34m\u001b[0m\u001b[0;34m\u001b[0m\u001b[0m\n",
            "\u001b[0;31mValueError\u001b[0m: y contains previously unseen labels: [2 3 4 5 6]"
          ]
        },
        {
          "output_type": "display_data",
          "data": {
            "text/plain": [
              "<Figure size 720x576 with 0 Axes>"
            ]
          },
          "metadata": {}
        }
      ]
    },
    {
      "cell_type": "markdown",
      "source": [
        "### Random Forest"
      ],
      "metadata": {
        "id": "z8pWuxyp0i5b"
      }
    },
    {
      "cell_type": "code",
      "source": [
        "# Build the model\n",
        "rf = RandomForestClassifier()\n",
        "rf.fit(X_train, y_train)"
      ],
      "metadata": {
        "colab": {
          "base_uri": "https://localhost:8080/"
        },
        "id": "1YKIwvpkzUen",
        "outputId": "a0639a10-0f06-412e-e332-9367eaaffced"
      },
      "execution_count": null,
      "outputs": [
        {
          "output_type": "execute_result",
          "data": {
            "text/plain": [
              "RandomForestClassifier()"
            ]
          },
          "metadata": {},
          "execution_count": 66
        }
      ]
    },
    {
      "cell_type": "code",
      "source": [
        "# Make predictions and call this variable y_pred_dt\n",
        "y_pred_rf = rf.predict(X_test)"
      ],
      "metadata": {
        "id": "62MMUAOFzUbd"
      },
      "execution_count": null,
      "outputs": []
    },
    {
      "cell_type": "code",
      "source": [
        "# Optional: Print the first five predicted vs actual values\n",
        "print_5(y_pred_rf, y_test)"
      ],
      "metadata": {
        "colab": {
          "base_uri": "https://localhost:8080/"
        },
        "id": "GrVomSfXzUY9",
        "outputId": "79513264-3797-4c31-9d9f-04688faae4b3"
      },
      "execution_count": null,
      "outputs": [
        {
          "output_type": "stream",
          "name": "stdout",
          "text": [
            "first five predicted values: [1 0 1 0 0]\n",
            "first five actual values: [6, 1, 1, 0, 6]\n"
          ]
        }
      ]
    },
    {
      "cell_type": "code",
      "source": [
        "# Print scores of random forest model\n",
        "rf_scores = print_scores(\"Random forest\", y_pred_rf, y_test)"
      ],
      "metadata": {
        "colab": {
          "base_uri": "https://localhost:8080/"
        },
        "id": "Ka2wTke6zUWn",
        "outputId": "ab8e5ef0-3d64-4bce-d579-8cdc9c8f8f31"
      },
      "execution_count": null,
      "outputs": [
        {
          "output_type": "stream",
          "name": "stdout",
          "text": [
            "Results of the Decision Tree Model:\n",
            "Accuracy Score: 0.47\n",
            "Precision Score: 0.19\n",
            "Recall Score: 0.18\n",
            "F1 Score: 0.16\n"
          ]
        },
        {
          "output_type": "stream",
          "name": "stderr",
          "text": [
            "/usr/local/lib/python3.7/dist-packages/sklearn/metrics/_classification.py:1318: UndefinedMetricWarning: Precision is ill-defined and being set to 0.0 in labels with no predicted samples. Use `zero_division` parameter to control this behavior.\n",
            "  _warn_prf(average, modifier, msg_start, len(result))\n"
          ]
        }
      ]
    },
    {
      "cell_type": "code",
      "source": [
        "# Print scores of model for each genre\n",
        "evaluate_model(rf, y_test, y_pred_rf)"
      ],
      "metadata": {
        "colab": {
          "base_uri": "https://localhost:8080/"
        },
        "id": "kvlitZktzUT8",
        "outputId": "a469f08a-8bd4-442c-c766-5a338c62f6e8"
      },
      "execution_count": null,
      "outputs": [
        {
          "output_type": "stream",
          "name": "stdout",
          "text": [
            "Model:  RandomForestClassifier()\n"
          ]
        },
        {
          "output_type": "stream",
          "name": "stderr",
          "text": [
            "/usr/local/lib/python3.7/dist-packages/sklearn/metrics/_classification.py:1318: UndefinedMetricWarning: Precision and F-score are ill-defined and being set to 0.0 in labels with no predicted samples. Use `zero_division` parameter to control this behavior.\n",
            "  _warn_prf(average, modifier, msg_start, len(result))\n"
          ]
        },
        {
          "output_type": "stream",
          "name": "stdout",
          "text": [
            "              precision    recall  f1-score   support\n",
            "\n",
            "           0       0.50      0.54      0.52     21630\n",
            "           1       0.46      0.69      0.55     22813\n",
            "           2       0.16      0.00      0.00      3995\n",
            "           3       0.00      0.00      0.00       233\n",
            "           4       0.21      0.02      0.04      6458\n",
            "           5       0.00      0.00      0.00         6\n",
            "           6       0.03      0.00      0.00      3030\n",
            "\n",
            "    accuracy                           0.47     58165\n",
            "   macro avg       0.19      0.18      0.16     58165\n",
            "weighted avg       0.40      0.47      0.41     58165\n",
            "\n",
            "\n",
            "\n"
          ]
        },
        {
          "output_type": "stream",
          "name": "stderr",
          "text": [
            "/usr/local/lib/python3.7/dist-packages/sklearn/metrics/_classification.py:1318: UndefinedMetricWarning: Precision and F-score are ill-defined and being set to 0.0 in labels with no predicted samples. Use `zero_division` parameter to control this behavior.\n",
            "  _warn_prf(average, modifier, msg_start, len(result))\n",
            "/usr/local/lib/python3.7/dist-packages/sklearn/metrics/_classification.py:1318: UndefinedMetricWarning: Precision and F-score are ill-defined and being set to 0.0 in labels with no predicted samples. Use `zero_division` parameter to control this behavior.\n",
            "  _warn_prf(average, modifier, msg_start, len(result))\n"
          ]
        }
      ]
    },
    {
      "cell_type": "code",
      "source": [
        "plot_confusion_matrix(rf, \"Random forest\", y_test, y_pred_rf, encoder=label_encoder)"
      ],
      "metadata": {
        "colab": {
          "base_uri": "https://localhost:8080/",
          "height": 389
        },
        "id": "PEtk6JuFzUR4",
        "outputId": "8e0bcc67-3b14-4bea-d521-496295d1a50b"
      },
      "execution_count": null,
      "outputs": [
        {
          "output_type": "error",
          "ename": "ValueError",
          "evalue": "ignored",
          "traceback": [
            "\u001b[0;31m---------------------------------------------------------------------------\u001b[0m",
            "\u001b[0;31mValueError\u001b[0m                                Traceback (most recent call last)",
            "\u001b[0;32m<ipython-input-71-1762b981e493>\u001b[0m in \u001b[0;36m<module>\u001b[0;34m()\u001b[0m\n\u001b[0;32m----> 1\u001b[0;31m \u001b[0mplot_confusion_matrix\u001b[0m\u001b[0;34m(\u001b[0m\u001b[0mrf\u001b[0m\u001b[0;34m,\u001b[0m \u001b[0;34m\"Random forest\"\u001b[0m\u001b[0;34m,\u001b[0m \u001b[0my_test\u001b[0m\u001b[0;34m,\u001b[0m \u001b[0my_pred_rf\u001b[0m\u001b[0;34m,\u001b[0m \u001b[0mencoder\u001b[0m\u001b[0;34m=\u001b[0m\u001b[0mlabel_encoder\u001b[0m\u001b[0;34m)\u001b[0m\u001b[0;34m\u001b[0m\u001b[0;34m\u001b[0m\u001b[0m\n\u001b[0m",
            "\u001b[0;32m<ipython-input-29-967f2105061f>\u001b[0m in \u001b[0;36mplot_confusion_matrix\u001b[0;34m(model, title, y_true, y_pred, encoder)\u001b[0m\n\u001b[1;32m      1\u001b[0m \u001b[0;32mdef\u001b[0m \u001b[0mplot_confusion_matrix\u001b[0m\u001b[0;34m(\u001b[0m\u001b[0mmodel\u001b[0m\u001b[0;34m,\u001b[0m \u001b[0mtitle\u001b[0m\u001b[0;34m,\u001b[0m \u001b[0my_true\u001b[0m\u001b[0;34m,\u001b[0m \u001b[0my_pred\u001b[0m\u001b[0;34m,\u001b[0m \u001b[0mencoder\u001b[0m\u001b[0;34m)\u001b[0m\u001b[0;34m:\u001b[0m\u001b[0;34m\u001b[0m\u001b[0;34m\u001b[0m\u001b[0m\n\u001b[1;32m      2\u001b[0m     \u001b[0mplt\u001b[0m\u001b[0;34m.\u001b[0m\u001b[0mfigure\u001b[0m\u001b[0;34m(\u001b[0m\u001b[0mfigsize\u001b[0m\u001b[0;34m=\u001b[0m\u001b[0;34m(\u001b[0m\u001b[0;36m10\u001b[0m\u001b[0;34m,\u001b[0m \u001b[0;36m8\u001b[0m\u001b[0;34m)\u001b[0m\u001b[0;34m)\u001b[0m\u001b[0;34m\u001b[0m\u001b[0;34m\u001b[0m\u001b[0m\n\u001b[0;32m----> 3\u001b[0;31m     \u001b[0mxticks\u001b[0m \u001b[0;34m=\u001b[0m \u001b[0mencoder\u001b[0m\u001b[0;34m.\u001b[0m\u001b[0minverse_transform\u001b[0m\u001b[0;34m(\u001b[0m\u001b[0mmodel\u001b[0m\u001b[0;34m.\u001b[0m\u001b[0mclasses_\u001b[0m\u001b[0;34m)\u001b[0m\u001b[0;34m\u001b[0m\u001b[0;34m\u001b[0m\u001b[0m\n\u001b[0m\u001b[1;32m      4\u001b[0m     \u001b[0myticks\u001b[0m \u001b[0;34m=\u001b[0m \u001b[0mencoder\u001b[0m\u001b[0;34m.\u001b[0m\u001b[0minverse_transform\u001b[0m\u001b[0;34m(\u001b[0m\u001b[0mmodel\u001b[0m\u001b[0;34m.\u001b[0m\u001b[0mclasses_\u001b[0m\u001b[0;34m)\u001b[0m\u001b[0;34m\u001b[0m\u001b[0;34m\u001b[0m\u001b[0m\n\u001b[1;32m      5\u001b[0m     \u001b[0mcm\u001b[0m \u001b[0;34m=\u001b[0m \u001b[0mconfusion_matrix\u001b[0m\u001b[0;34m(\u001b[0m\u001b[0my_true\u001b[0m\u001b[0;34m,\u001b[0m \u001b[0my_pred\u001b[0m\u001b[0;34m)\u001b[0m\u001b[0;34m\u001b[0m\u001b[0;34m\u001b[0m\u001b[0m\n",
            "\u001b[0;32m/usr/local/lib/python3.7/dist-packages/sklearn/preprocessing/_label.py\u001b[0m in \u001b[0;36minverse_transform\u001b[0;34m(self, y)\u001b[0m\n\u001b[1;32m    159\u001b[0m         \u001b[0mdiff\u001b[0m \u001b[0;34m=\u001b[0m \u001b[0mnp\u001b[0m\u001b[0;34m.\u001b[0m\u001b[0msetdiff1d\u001b[0m\u001b[0;34m(\u001b[0m\u001b[0my\u001b[0m\u001b[0;34m,\u001b[0m \u001b[0mnp\u001b[0m\u001b[0;34m.\u001b[0m\u001b[0marange\u001b[0m\u001b[0;34m(\u001b[0m\u001b[0mlen\u001b[0m\u001b[0;34m(\u001b[0m\u001b[0mself\u001b[0m\u001b[0;34m.\u001b[0m\u001b[0mclasses_\u001b[0m\u001b[0;34m)\u001b[0m\u001b[0;34m)\u001b[0m\u001b[0;34m)\u001b[0m\u001b[0;34m\u001b[0m\u001b[0;34m\u001b[0m\u001b[0m\n\u001b[1;32m    160\u001b[0m         \u001b[0;32mif\u001b[0m \u001b[0mlen\u001b[0m\u001b[0;34m(\u001b[0m\u001b[0mdiff\u001b[0m\u001b[0;34m)\u001b[0m\u001b[0;34m:\u001b[0m\u001b[0;34m\u001b[0m\u001b[0;34m\u001b[0m\u001b[0m\n\u001b[0;32m--> 161\u001b[0;31m             \u001b[0;32mraise\u001b[0m \u001b[0mValueError\u001b[0m\u001b[0;34m(\u001b[0m\u001b[0;34m\"y contains previously unseen labels: %s\"\u001b[0m \u001b[0;34m%\u001b[0m \u001b[0mstr\u001b[0m\u001b[0;34m(\u001b[0m\u001b[0mdiff\u001b[0m\u001b[0;34m)\u001b[0m\u001b[0;34m)\u001b[0m\u001b[0;34m\u001b[0m\u001b[0;34m\u001b[0m\u001b[0m\n\u001b[0m\u001b[1;32m    162\u001b[0m         \u001b[0my\u001b[0m \u001b[0;34m=\u001b[0m \u001b[0mnp\u001b[0m\u001b[0;34m.\u001b[0m\u001b[0masarray\u001b[0m\u001b[0;34m(\u001b[0m\u001b[0my\u001b[0m\u001b[0;34m)\u001b[0m\u001b[0;34m\u001b[0m\u001b[0;34m\u001b[0m\u001b[0m\n\u001b[1;32m    163\u001b[0m         \u001b[0;32mreturn\u001b[0m \u001b[0mself\u001b[0m\u001b[0;34m.\u001b[0m\u001b[0mclasses_\u001b[0m\u001b[0;34m[\u001b[0m\u001b[0my\u001b[0m\u001b[0;34m]\u001b[0m\u001b[0;34m\u001b[0m\u001b[0;34m\u001b[0m\u001b[0m\n",
            "\u001b[0;31mValueError\u001b[0m: y contains previously unseen labels: [2 3 4 5 6]"
          ]
        },
        {
          "output_type": "display_data",
          "data": {
            "text/plain": [
              "<Figure size 720x576 with 0 Axes>"
            ]
          },
          "metadata": {}
        }
      ]
    },
    {
      "cell_type": "markdown",
      "source": [
        "### XGBoost model"
      ],
      "metadata": {
        "id": "EOdJjkmt0-e4"
      }
    },
    {
      "cell_type": "code",
      "source": [
        "# Build the model\n",
        "xgb = XGBClassifier()\n",
        "xgb.fit(X_train, y_train)"
      ],
      "metadata": {
        "colab": {
          "base_uri": "https://localhost:8080/"
        },
        "id": "xlax6m9uzUP2",
        "outputId": "9e4c93fb-2e89-4436-9b94-4fb64a126a7d"
      },
      "execution_count": null,
      "outputs": [
        {
          "output_type": "execute_result",
          "data": {
            "text/plain": [
              "XGBClassifier(objective='multi:softprob')"
            ]
          },
          "metadata": {},
          "execution_count": 72
        }
      ]
    },
    {
      "cell_type": "code",
      "source": [
        "# Make predictions and call this variable y_pred_dt\n",
        "y_pred_xgb = xgb.predict(X_test)"
      ],
      "metadata": {
        "id": "bVVHyE8pzUNL"
      },
      "execution_count": null,
      "outputs": []
    },
    {
      "cell_type": "code",
      "source": [
        "# Print the first five predicted vs actual values\n",
        "print_5(y_pred_xgb, y_test)"
      ],
      "metadata": {
        "colab": {
          "base_uri": "https://localhost:8080/"
        },
        "id": "vL9nJpz1zUKc",
        "outputId": "f3260de0-8497-4ef6-b23f-41bb6c65b0e1"
      },
      "execution_count": null,
      "outputs": [
        {
          "output_type": "stream",
          "name": "stdout",
          "text": [
            "first five predicted values: [1 0 1 1 1]\n",
            "first five actual values: [6, 1, 1, 0, 6]\n"
          ]
        }
      ]
    },
    {
      "cell_type": "code",
      "source": [
        "# Print scores of XGBoost model\n",
        "xgb_scores = print_scores(\"XGBoost\", y_pred_xgb, y_test)"
      ],
      "metadata": {
        "colab": {
          "base_uri": "https://localhost:8080/"
        },
        "id": "-IfqpR6tzRub",
        "outputId": "90dc2c11-f46e-4b73-e1ba-0ff3e110f87d"
      },
      "execution_count": null,
      "outputs": [
        {
          "output_type": "stream",
          "name": "stdout",
          "text": [
            "Results of the Decision Tree Model:\n",
            "Accuracy Score: 0.48\n",
            "Precision Score: 0.18\n",
            "Recall Score: 0.18\n",
            "F1 Score: 0.15\n"
          ]
        },
        {
          "output_type": "stream",
          "name": "stderr",
          "text": [
            "/usr/local/lib/python3.7/dist-packages/sklearn/metrics/_classification.py:1318: UndefinedMetricWarning: Precision is ill-defined and being set to 0.0 in labels with no predicted samples. Use `zero_division` parameter to control this behavior.\n",
            "  _warn_prf(average, modifier, msg_start, len(result))\n"
          ]
        }
      ]
    },
    {
      "cell_type": "code",
      "source": [
        "# Print scores of model for each wicket label\n",
        "evaluate_model(xgb, y_test, y_pred_xgb)"
      ],
      "metadata": {
        "colab": {
          "base_uri": "https://localhost:8080/"
        },
        "id": "vCkdDRiv1K2e",
        "outputId": "714469d1-d1f5-4b10-90c2-2f62a8131dd6"
      },
      "execution_count": null,
      "outputs": [
        {
          "output_type": "stream",
          "name": "stdout",
          "text": [
            "Model:  XGBClassifier(objective='multi:softprob')\n",
            "              precision    recall  f1-score   support\n",
            "\n",
            "           0       0.53      0.45      0.48     21630\n",
            "           1       0.45      0.80      0.58     22813\n",
            "           2       0.00      0.00      0.00      3995\n",
            "           3       0.00      0.00      0.00       233\n",
            "           4       0.26      0.00      0.00      6458\n",
            "           5       0.00      0.00      0.00         6\n",
            "           6       0.00      0.00      0.00      3030\n",
            "\n",
            "    accuracy                           0.48     58165\n",
            "   macro avg       0.18      0.18      0.15     58165\n",
            "weighted avg       0.40      0.48      0.41     58165\n",
            "\n",
            "\n",
            "\n"
          ]
        },
        {
          "output_type": "stream",
          "name": "stderr",
          "text": [
            "/usr/local/lib/python3.7/dist-packages/sklearn/metrics/_classification.py:1318: UndefinedMetricWarning: Precision and F-score are ill-defined and being set to 0.0 in labels with no predicted samples. Use `zero_division` parameter to control this behavior.\n",
            "  _warn_prf(average, modifier, msg_start, len(result))\n",
            "/usr/local/lib/python3.7/dist-packages/sklearn/metrics/_classification.py:1318: UndefinedMetricWarning: Precision and F-score are ill-defined and being set to 0.0 in labels with no predicted samples. Use `zero_division` parameter to control this behavior.\n",
            "  _warn_prf(average, modifier, msg_start, len(result))\n",
            "/usr/local/lib/python3.7/dist-packages/sklearn/metrics/_classification.py:1318: UndefinedMetricWarning: Precision and F-score are ill-defined and being set to 0.0 in labels with no predicted samples. Use `zero_division` parameter to control this behavior.\n",
            "  _warn_prf(average, modifier, msg_start, len(result))\n"
          ]
        }
      ]
    },
    {
      "cell_type": "code",
      "source": [
        "# Plot confusion matrix\n",
        "plot_confusion_matrix(xgb, \"XGB\", y_test, y_pred_xgb, encoder=label_encoder)"
      ],
      "metadata": {
        "colab": {
          "base_uri": "https://localhost:8080/",
          "height": 407
        },
        "id": "XWIw824o1Kz5",
        "outputId": "d4f31763-50a3-47c6-8dcb-535d7406d734"
      },
      "execution_count": null,
      "outputs": [
        {
          "output_type": "error",
          "ename": "ValueError",
          "evalue": "ignored",
          "traceback": [
            "\u001b[0;31m---------------------------------------------------------------------------\u001b[0m",
            "\u001b[0;31mValueError\u001b[0m                                Traceback (most recent call last)",
            "\u001b[0;32m<ipython-input-77-70c951d57eb9>\u001b[0m in \u001b[0;36m<module>\u001b[0;34m()\u001b[0m\n\u001b[1;32m      1\u001b[0m \u001b[0;31m# Plot confusion matrix\u001b[0m\u001b[0;34m\u001b[0m\u001b[0;34m\u001b[0m\u001b[0;34m\u001b[0m\u001b[0m\n\u001b[0;32m----> 2\u001b[0;31m \u001b[0mplot_confusion_matrix\u001b[0m\u001b[0;34m(\u001b[0m\u001b[0mdt\u001b[0m\u001b[0;34m,\u001b[0m \u001b[0;34m\"XGB\"\u001b[0m\u001b[0;34m,\u001b[0m \u001b[0my_test\u001b[0m\u001b[0;34m,\u001b[0m \u001b[0my_pred_xgb\u001b[0m\u001b[0;34m,\u001b[0m \u001b[0mencoder\u001b[0m\u001b[0;34m=\u001b[0m\u001b[0mlabel_encoder\u001b[0m\u001b[0;34m)\u001b[0m\u001b[0;34m\u001b[0m\u001b[0;34m\u001b[0m\u001b[0m\n\u001b[0m",
            "\u001b[0;32m<ipython-input-29-967f2105061f>\u001b[0m in \u001b[0;36mplot_confusion_matrix\u001b[0;34m(model, title, y_true, y_pred, encoder)\u001b[0m\n\u001b[1;32m      1\u001b[0m \u001b[0;32mdef\u001b[0m \u001b[0mplot_confusion_matrix\u001b[0m\u001b[0;34m(\u001b[0m\u001b[0mmodel\u001b[0m\u001b[0;34m,\u001b[0m \u001b[0mtitle\u001b[0m\u001b[0;34m,\u001b[0m \u001b[0my_true\u001b[0m\u001b[0;34m,\u001b[0m \u001b[0my_pred\u001b[0m\u001b[0;34m,\u001b[0m \u001b[0mencoder\u001b[0m\u001b[0;34m)\u001b[0m\u001b[0;34m:\u001b[0m\u001b[0;34m\u001b[0m\u001b[0;34m\u001b[0m\u001b[0m\n\u001b[1;32m      2\u001b[0m     \u001b[0mplt\u001b[0m\u001b[0;34m.\u001b[0m\u001b[0mfigure\u001b[0m\u001b[0;34m(\u001b[0m\u001b[0mfigsize\u001b[0m\u001b[0;34m=\u001b[0m\u001b[0;34m(\u001b[0m\u001b[0;36m10\u001b[0m\u001b[0;34m,\u001b[0m \u001b[0;36m8\u001b[0m\u001b[0;34m)\u001b[0m\u001b[0;34m)\u001b[0m\u001b[0;34m\u001b[0m\u001b[0;34m\u001b[0m\u001b[0m\n\u001b[0;32m----> 3\u001b[0;31m     \u001b[0mxticks\u001b[0m \u001b[0;34m=\u001b[0m \u001b[0mencoder\u001b[0m\u001b[0;34m.\u001b[0m\u001b[0minverse_transform\u001b[0m\u001b[0;34m(\u001b[0m\u001b[0mmodel\u001b[0m\u001b[0;34m.\u001b[0m\u001b[0mclasses_\u001b[0m\u001b[0;34m)\u001b[0m\u001b[0;34m\u001b[0m\u001b[0;34m\u001b[0m\u001b[0m\n\u001b[0m\u001b[1;32m      4\u001b[0m     \u001b[0myticks\u001b[0m \u001b[0;34m=\u001b[0m \u001b[0mencoder\u001b[0m\u001b[0;34m.\u001b[0m\u001b[0minverse_transform\u001b[0m\u001b[0;34m(\u001b[0m\u001b[0mmodel\u001b[0m\u001b[0;34m.\u001b[0m\u001b[0mclasses_\u001b[0m\u001b[0;34m)\u001b[0m\u001b[0;34m\u001b[0m\u001b[0;34m\u001b[0m\u001b[0m\n\u001b[1;32m      5\u001b[0m     \u001b[0mcm\u001b[0m \u001b[0;34m=\u001b[0m \u001b[0mconfusion_matrix\u001b[0m\u001b[0;34m(\u001b[0m\u001b[0my_true\u001b[0m\u001b[0;34m,\u001b[0m \u001b[0my_pred\u001b[0m\u001b[0;34m)\u001b[0m\u001b[0;34m\u001b[0m\u001b[0;34m\u001b[0m\u001b[0m\n",
            "\u001b[0;32m/usr/local/lib/python3.7/dist-packages/sklearn/preprocessing/_label.py\u001b[0m in \u001b[0;36minverse_transform\u001b[0;34m(self, y)\u001b[0m\n\u001b[1;32m    159\u001b[0m         \u001b[0mdiff\u001b[0m \u001b[0;34m=\u001b[0m \u001b[0mnp\u001b[0m\u001b[0;34m.\u001b[0m\u001b[0msetdiff1d\u001b[0m\u001b[0;34m(\u001b[0m\u001b[0my\u001b[0m\u001b[0;34m,\u001b[0m \u001b[0mnp\u001b[0m\u001b[0;34m.\u001b[0m\u001b[0marange\u001b[0m\u001b[0;34m(\u001b[0m\u001b[0mlen\u001b[0m\u001b[0;34m(\u001b[0m\u001b[0mself\u001b[0m\u001b[0;34m.\u001b[0m\u001b[0mclasses_\u001b[0m\u001b[0;34m)\u001b[0m\u001b[0;34m)\u001b[0m\u001b[0;34m)\u001b[0m\u001b[0;34m\u001b[0m\u001b[0;34m\u001b[0m\u001b[0m\n\u001b[1;32m    160\u001b[0m         \u001b[0;32mif\u001b[0m \u001b[0mlen\u001b[0m\u001b[0;34m(\u001b[0m\u001b[0mdiff\u001b[0m\u001b[0;34m)\u001b[0m\u001b[0;34m:\u001b[0m\u001b[0;34m\u001b[0m\u001b[0;34m\u001b[0m\u001b[0m\n\u001b[0;32m--> 161\u001b[0;31m             \u001b[0;32mraise\u001b[0m \u001b[0mValueError\u001b[0m\u001b[0;34m(\u001b[0m\u001b[0;34m\"y contains previously unseen labels: %s\"\u001b[0m \u001b[0;34m%\u001b[0m \u001b[0mstr\u001b[0m\u001b[0;34m(\u001b[0m\u001b[0mdiff\u001b[0m\u001b[0;34m)\u001b[0m\u001b[0;34m)\u001b[0m\u001b[0;34m\u001b[0m\u001b[0;34m\u001b[0m\u001b[0m\n\u001b[0m\u001b[1;32m    162\u001b[0m         \u001b[0my\u001b[0m \u001b[0;34m=\u001b[0m \u001b[0mnp\u001b[0m\u001b[0;34m.\u001b[0m\u001b[0masarray\u001b[0m\u001b[0;34m(\u001b[0m\u001b[0my\u001b[0m\u001b[0;34m)\u001b[0m\u001b[0;34m\u001b[0m\u001b[0;34m\u001b[0m\u001b[0m\n\u001b[1;32m    163\u001b[0m         \u001b[0;32mreturn\u001b[0m \u001b[0mself\u001b[0m\u001b[0;34m.\u001b[0m\u001b[0mclasses_\u001b[0m\u001b[0;34m[\u001b[0m\u001b[0my\u001b[0m\u001b[0;34m]\u001b[0m\u001b[0;34m\u001b[0m\u001b[0;34m\u001b[0m\u001b[0m\n",
            "\u001b[0;31mValueError\u001b[0m: y contains previously unseen labels: [2 3 4 5 6]"
          ]
        },
        {
          "output_type": "display_data",
          "data": {
            "text/plain": [
              "<Figure size 720x576 with 0 Axes>"
            ]
          },
          "metadata": {}
        }
      ]
    },
    {
      "cell_type": "markdown",
      "source": [
        "## Evaluating and Explaining Model Performances"
      ],
      "metadata": {
        "id": "1KLDp-uc1Qe9"
      }
    },
    {
      "cell_type": "code",
      "source": [
        "# Df of all scores\n",
        "all_scores = pd.concat([dt_scores, rf_scores, xgb_scores], axis=1)\n",
        "all_scores"
      ],
      "metadata": {
        "id": "sG5R-j801KxU",
        "colab": {
          "base_uri": "https://localhost:8080/",
          "height": 175
        },
        "outputId": "f0072203-37f4-4363-e381-0f93d757d558"
      },
      "execution_count": null,
      "outputs": [
        {
          "output_type": "execute_result",
          "data": {
            "text/plain": [
              "           Decision tree  Random forest   XGBoost\n",
              "Accuracy        0.364618       0.470867  0.478123\n",
              "Precision       0.170332       0.194987  0.177674\n",
              "Recall          0.170483       0.178297  0.177558\n",
              "F1              0.170394       0.159290  0.152137"
            ],
            "text/html": [
              "\n",
              "  <div id=\"df-04323150-86ca-400b-a200-3f9bb530a1e6\">\n",
              "    <div class=\"colab-df-container\">\n",
              "      <div>\n",
              "<style scoped>\n",
              "    .dataframe tbody tr th:only-of-type {\n",
              "        vertical-align: middle;\n",
              "    }\n",
              "\n",
              "    .dataframe tbody tr th {\n",
              "        vertical-align: top;\n",
              "    }\n",
              "\n",
              "    .dataframe thead th {\n",
              "        text-align: right;\n",
              "    }\n",
              "</style>\n",
              "<table border=\"1\" class=\"dataframe\">\n",
              "  <thead>\n",
              "    <tr style=\"text-align: right;\">\n",
              "      <th></th>\n",
              "      <th>Decision tree</th>\n",
              "      <th>Random forest</th>\n",
              "      <th>XGBoost</th>\n",
              "    </tr>\n",
              "  </thead>\n",
              "  <tbody>\n",
              "    <tr>\n",
              "      <th>Accuracy</th>\n",
              "      <td>0.364618</td>\n",
              "      <td>0.470867</td>\n",
              "      <td>0.478123</td>\n",
              "    </tr>\n",
              "    <tr>\n",
              "      <th>Precision</th>\n",
              "      <td>0.170332</td>\n",
              "      <td>0.194987</td>\n",
              "      <td>0.177674</td>\n",
              "    </tr>\n",
              "    <tr>\n",
              "      <th>Recall</th>\n",
              "      <td>0.170483</td>\n",
              "      <td>0.178297</td>\n",
              "      <td>0.177558</td>\n",
              "    </tr>\n",
              "    <tr>\n",
              "      <th>F1</th>\n",
              "      <td>0.170394</td>\n",
              "      <td>0.159290</td>\n",
              "      <td>0.152137</td>\n",
              "    </tr>\n",
              "  </tbody>\n",
              "</table>\n",
              "</div>\n",
              "      <button class=\"colab-df-convert\" onclick=\"convertToInteractive('df-04323150-86ca-400b-a200-3f9bb530a1e6')\"\n",
              "              title=\"Convert this dataframe to an interactive table.\"\n",
              "              style=\"display:none;\">\n",
              "        \n",
              "  <svg xmlns=\"http://www.w3.org/2000/svg\" height=\"24px\"viewBox=\"0 0 24 24\"\n",
              "       width=\"24px\">\n",
              "    <path d=\"M0 0h24v24H0V0z\" fill=\"none\"/>\n",
              "    <path d=\"M18.56 5.44l.94 2.06.94-2.06 2.06-.94-2.06-.94-.94-2.06-.94 2.06-2.06.94zm-11 1L8.5 8.5l.94-2.06 2.06-.94-2.06-.94L8.5 2.5l-.94 2.06-2.06.94zm10 10l.94 2.06.94-2.06 2.06-.94-2.06-.94-.94-2.06-.94 2.06-2.06.94z\"/><path d=\"M17.41 7.96l-1.37-1.37c-.4-.4-.92-.59-1.43-.59-.52 0-1.04.2-1.43.59L10.3 9.45l-7.72 7.72c-.78.78-.78 2.05 0 2.83L4 21.41c.39.39.9.59 1.41.59.51 0 1.02-.2 1.41-.59l7.78-7.78 2.81-2.81c.8-.78.8-2.07 0-2.86zM5.41 20L4 18.59l7.72-7.72 1.47 1.35L5.41 20z\"/>\n",
              "  </svg>\n",
              "      </button>\n",
              "      \n",
              "  <style>\n",
              "    .colab-df-container {\n",
              "      display:flex;\n",
              "      flex-wrap:wrap;\n",
              "      gap: 12px;\n",
              "    }\n",
              "\n",
              "    .colab-df-convert {\n",
              "      background-color: #E8F0FE;\n",
              "      border: none;\n",
              "      border-radius: 50%;\n",
              "      cursor: pointer;\n",
              "      display: none;\n",
              "      fill: #1967D2;\n",
              "      height: 32px;\n",
              "      padding: 0 0 0 0;\n",
              "      width: 32px;\n",
              "    }\n",
              "\n",
              "    .colab-df-convert:hover {\n",
              "      background-color: #E2EBFA;\n",
              "      box-shadow: 0px 1px 2px rgba(60, 64, 67, 0.3), 0px 1px 3px 1px rgba(60, 64, 67, 0.15);\n",
              "      fill: #174EA6;\n",
              "    }\n",
              "\n",
              "    [theme=dark] .colab-df-convert {\n",
              "      background-color: #3B4455;\n",
              "      fill: #D2E3FC;\n",
              "    }\n",
              "\n",
              "    [theme=dark] .colab-df-convert:hover {\n",
              "      background-color: #434B5C;\n",
              "      box-shadow: 0px 1px 3px 1px rgba(0, 0, 0, 0.15);\n",
              "      filter: drop-shadow(0px 1px 2px rgba(0, 0, 0, 0.3));\n",
              "      fill: #FFFFFF;\n",
              "    }\n",
              "  </style>\n",
              "\n",
              "      <script>\n",
              "        const buttonEl =\n",
              "          document.querySelector('#df-04323150-86ca-400b-a200-3f9bb530a1e6 button.colab-df-convert');\n",
              "        buttonEl.style.display =\n",
              "          google.colab.kernel.accessAllowed ? 'block' : 'none';\n",
              "\n",
              "        async function convertToInteractive(key) {\n",
              "          const element = document.querySelector('#df-04323150-86ca-400b-a200-3f9bb530a1e6');\n",
              "          const dataTable =\n",
              "            await google.colab.kernel.invokeFunction('convertToInteractive',\n",
              "                                                     [key], {});\n",
              "          if (!dataTable) return;\n",
              "\n",
              "          const docLinkHtml = 'Like what you see? Visit the ' +\n",
              "            '<a target=\"_blank\" href=https://colab.research.google.com/notebooks/data_table.ipynb>data table notebook</a>'\n",
              "            + ' to learn more about interactive tables.';\n",
              "          element.innerHTML = '';\n",
              "          dataTable['output_type'] = 'display_data';\n",
              "          await google.colab.output.renderOutput(dataTable, element);\n",
              "          const docLink = document.createElement('div');\n",
              "          docLink.innerHTML = docLinkHtml;\n",
              "          element.appendChild(docLink);\n",
              "        }\n",
              "      </script>\n",
              "    </div>\n",
              "  </div>\n",
              "  "
            ]
          },
          "metadata": {},
          "execution_count": 78
        }
      ]
    },
    {
      "cell_type": "markdown",
      "source": [
        "## Conclusion: The XGboost model is the best model"
      ],
      "metadata": {
        "id": "lKxkF1RH1b8T"
      }
    },
    {
      "cell_type": "code",
      "source": [
        "# Let's plot the learning curves \n",
        "learning_curve_plot(xgb, X_train, y_train, \"accuracy\")"
      ],
      "metadata": {
        "id": "-KF1-4j-1KnQ",
        "colab": {
          "base_uri": "https://localhost:8080/"
        },
        "outputId": "02ae6262-7eee-43c6-9007-14a20ac28a02"
      },
      "execution_count": null,
      "outputs": [
        {
          "output_type": "stream",
          "name": "stderr",
          "text": [
            "/usr/local/lib/python3.7/dist-packages/joblib/externals/loky/process_executor.py:705: UserWarning: A worker stopped while some jobs were given to the executor. This can be caused by a too short worker timeout or by a memory leak.\n",
            "  \"timeout or by a memory leak.\", UserWarning\n"
          ]
        }
      ]
    },
    {
      "cell_type": "code",
      "source": [
        "# Feature importance plot\n",
        "feature_importance_plot(xgb, X_train)"
      ],
      "metadata": {
        "id": "dimB50K11KkB"
      },
      "execution_count": null,
      "outputs": []
    },
    {
      "cell_type": "code",
      "source": [
        ""
      ],
      "metadata": {
        "id": "KxW6Wewa1Kg4"
      },
      "execution_count": null,
      "outputs": []
    }
  ]
}